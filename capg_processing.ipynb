{
 "cells": [
  {
   "cell_type": "code",
   "execution_count": 1,
   "metadata": {},
   "outputs": [],
   "source": [
    "# 1. load CapgMyo dataset\n",
    "# 2. normalization, convert to a grayscale image with a linear transform\n",
    "# 3. output as Nonex8x16x3 sequence as the baseline dataset\n",
    "# 6. TODO: add low-pass filtered: full wave rectified and low-pass filtered using "
   ]
  },
  {
   "cell_type": "code",
   "execution_count": 6,
   "metadata": {},
   "outputs": [],
   "source": [
    "import numpy as np\n",
    "from scipy.io import loadmat\n",
    "import os\n",
    "import re\n",
    "import h5py"
   ]
  },
  {
   "cell_type": "code",
   "execution_count": 3,
   "metadata": {},
   "outputs": [],
   "source": [
    "def convert_emg(mat_file, image_size = (8, 16)):\n",
    "    emg_array = np.array(mat_file['data'])\n",
    "    # convert data from [-2.5, 2.5]  to [0, 1]\n",
    "    scale = 10000\n",
    "    emg_array = (emg_array * scale + 2.5*scale) / (5*scale)\n",
    "    \n",
    "    frames_size = (emg_array.shape[0], image_size[0], image_size[1], 3)\n",
    "    emg_frames = np.empty(frames_size)\n",
    "    for i in range(emg_array.shape[0]):\n",
    "        frame = np.reshape(emg_array[i], image_size)\n",
    "        # replicate three times as RGB channel\n",
    "        frame_3d = frame[:,:,None] * np.ones(3, dtype=int)[None,None,:]\n",
    "        emg_frames[i] = frame_3d\n",
    "    return emg_frames"
   ]
  },
  {
   "cell_type": "code",
   "execution_count": 4,
   "metadata": {},
   "outputs": [],
   "source": [
    "# read all mat files into a dict<gestures id:gestures list>\n",
    "def process_row_data(db_name):\n",
    "    DB_NAME = db_name\n",
    "    INPUT_DIR = '../data/capg_raw/'\n",
    "    gestures = dict()\n",
    "    for root, directories, files in os.walk(INPUT_DIR):\n",
    "        if not re.search(DB_NAME, root):\n",
    "            continue\n",
    "        print('root:{}, directories:{}, files: {}'.format(root, len(directories), len(files)))\n",
    "        for file in files:\n",
    "            gesture_num = file[4:7]\n",
    "            if gesture_num not in gestures.keys():\n",
    "                gestures[gesture_num] = list()\n",
    "            file_loc = os.path.join(root, file)\n",
    "            mat = loadmat(file_loc)\n",
    "            gestures[gesture_num].append(convert_emg(mat))\n",
    "\n",
    "    print(gestures.keys())\n",
    "\n",
    "    return gestures"
   ]
  },
  {
   "cell_type": "code",
   "execution_count": 5,
   "metadata": {},
   "outputs": [
    {
     "name": "stdout",
     "output_type": "stream",
     "text": [
      "root:../data/capg_raw/dba-preprocessed-011, directories:0, files: 82\n",
      "root:../data/capg_raw/dba-preprocessed-016, directories:0, files: 82\n",
      "root:../data/capg_raw/dba-preprocessed-018, directories:0, files: 82\n",
      "root:../data/capg_raw/dba-preprocessed-017, directories:0, files: 82\n"
     ]
    },
    {
     "ename": "KeyboardInterrupt",
     "evalue": "",
     "output_type": "error",
     "traceback": [
      "\u001b[0;31m---------------------------------------------------------------------------\u001b[0m",
      "\u001b[0;31mKeyboardInterrupt\u001b[0m                         Traceback (most recent call last)",
      "\u001b[0;32m<ipython-input-5-efad01c66a97>\u001b[0m in \u001b[0;36m<module>\u001b[0;34m\u001b[0m\n\u001b[0;32m----> 1\u001b[0;31m \u001b[0mdba_gestures\u001b[0m \u001b[0;34m=\u001b[0m \u001b[0mprocess_row_data\u001b[0m\u001b[0;34m(\u001b[0m\u001b[0;34m'dba-'\u001b[0m\u001b[0;34m)\u001b[0m\u001b[0;34m\u001b[0m\u001b[0;34m\u001b[0m\u001b[0m\n\u001b[0m",
      "\u001b[0;32m<ipython-input-4-a1bed06ae559>\u001b[0m in \u001b[0;36mprocess_row_data\u001b[0;34m(db_name)\u001b[0m\n\u001b[1;32m     14\u001b[0m             \u001b[0mfile_loc\u001b[0m \u001b[0;34m=\u001b[0m \u001b[0mos\u001b[0m\u001b[0;34m.\u001b[0m\u001b[0mpath\u001b[0m\u001b[0;34m.\u001b[0m\u001b[0mjoin\u001b[0m\u001b[0;34m(\u001b[0m\u001b[0mroot\u001b[0m\u001b[0;34m,\u001b[0m \u001b[0mfile\u001b[0m\u001b[0;34m)\u001b[0m\u001b[0;34m\u001b[0m\u001b[0;34m\u001b[0m\u001b[0m\n\u001b[1;32m     15\u001b[0m             \u001b[0mmat\u001b[0m \u001b[0;34m=\u001b[0m \u001b[0mloadmat\u001b[0m\u001b[0;34m(\u001b[0m\u001b[0mfile_loc\u001b[0m\u001b[0;34m)\u001b[0m\u001b[0;34m\u001b[0m\u001b[0;34m\u001b[0m\u001b[0m\n\u001b[0;32m---> 16\u001b[0;31m             \u001b[0mgestures\u001b[0m\u001b[0;34m[\u001b[0m\u001b[0mgesture_num\u001b[0m\u001b[0;34m]\u001b[0m\u001b[0;34m.\u001b[0m\u001b[0mappend\u001b[0m\u001b[0;34m(\u001b[0m\u001b[0mconvert_emg\u001b[0m\u001b[0;34m(\u001b[0m\u001b[0mmat\u001b[0m\u001b[0;34m)\u001b[0m\u001b[0;34m)\u001b[0m\u001b[0;34m\u001b[0m\u001b[0;34m\u001b[0m\u001b[0m\n\u001b[0m\u001b[1;32m     17\u001b[0m \u001b[0;34m\u001b[0m\u001b[0m\n\u001b[1;32m     18\u001b[0m     \u001b[0mprint\u001b[0m\u001b[0;34m(\u001b[0m\u001b[0mgestures\u001b[0m\u001b[0;34m.\u001b[0m\u001b[0mkeys\u001b[0m\u001b[0;34m(\u001b[0m\u001b[0;34m)\u001b[0m\u001b[0;34m)\u001b[0m\u001b[0;34m\u001b[0m\u001b[0;34m\u001b[0m\u001b[0m\n",
      "\u001b[0;32m<ipython-input-3-e231c13a9e37>\u001b[0m in \u001b[0;36mconvert_emg\u001b[0;34m(mat_file, image_size)\u001b[0m\n\u001b[1;32m     11\u001b[0m         \u001b[0;31m# replicate three times as RGB channel\u001b[0m\u001b[0;34m\u001b[0m\u001b[0;34m\u001b[0m\u001b[0;34m\u001b[0m\u001b[0m\n\u001b[1;32m     12\u001b[0m         \u001b[0mframe_3d\u001b[0m \u001b[0;34m=\u001b[0m \u001b[0mframe\u001b[0m\u001b[0;34m[\u001b[0m\u001b[0;34m:\u001b[0m\u001b[0;34m,\u001b[0m\u001b[0;34m:\u001b[0m\u001b[0;34m,\u001b[0m\u001b[0;32mNone\u001b[0m\u001b[0;34m]\u001b[0m \u001b[0;34m*\u001b[0m \u001b[0mnp\u001b[0m\u001b[0;34m.\u001b[0m\u001b[0mones\u001b[0m\u001b[0;34m(\u001b[0m\u001b[0;36m3\u001b[0m\u001b[0;34m,\u001b[0m \u001b[0mdtype\u001b[0m\u001b[0;34m=\u001b[0m\u001b[0mint\u001b[0m\u001b[0;34m)\u001b[0m\u001b[0;34m[\u001b[0m\u001b[0;32mNone\u001b[0m\u001b[0;34m,\u001b[0m\u001b[0;32mNone\u001b[0m\u001b[0;34m,\u001b[0m\u001b[0;34m:\u001b[0m\u001b[0;34m]\u001b[0m\u001b[0;34m\u001b[0m\u001b[0;34m\u001b[0m\u001b[0m\n\u001b[0;32m---> 13\u001b[0;31m         \u001b[0memg_frames\u001b[0m\u001b[0;34m[\u001b[0m\u001b[0mi\u001b[0m\u001b[0;34m]\u001b[0m \u001b[0;34m=\u001b[0m \u001b[0mframe_3d\u001b[0m\u001b[0;34m\u001b[0m\u001b[0;34m\u001b[0m\u001b[0m\n\u001b[0m\u001b[1;32m     14\u001b[0m     \u001b[0;32mreturn\u001b[0m \u001b[0memg_frames\u001b[0m\u001b[0;34m\u001b[0m\u001b[0;34m\u001b[0m\u001b[0m\n",
      "\u001b[0;31mKeyboardInterrupt\u001b[0m: "
     ]
    }
   ],
   "source": [
    "dba_gestures = process_row_data('dba-')"
   ]
  },
  {
   "cell_type": "code",
   "execution_count": null,
   "metadata": {},
   "outputs": [],
   "source": [
    "dbb_gestures = process_row_data('dbb-')"
   ]
  },
  {
   "cell_type": "code",
   "execution_count": null,
   "metadata": {},
   "outputs": [],
   "source": [
    "dbc_gestures = process_row_data('dbc-')"
   ]
  },
  {
   "cell_type": "code",
   "execution_count": null,
   "metadata": {},
   "outputs": [],
   "source": [
    "# output data, store in h5 files\n",
    "# name format: [abc]+-gesture number.h5\n",
    "merged_gestures = dict()\n",
    "for gesture_num in dbc_gestures.keys():\n",
    "    if gesture_num in ['101', '100']:\n",
    "        new_num = 'abc-' + gesture_num\n",
    "        merged_gestures[new_num] = dba_gestures[gesture_num]\\\n",
    "                                  +dbb_gestures[gesture_num]\\\n",
    "                                  +dbc_gestures[gesture_num]\n",
    "        continue\n",
    "    elif gesture_num not in ['009', '010', '011', '012']:\n",
    "        new_num = 'ab-' + gesture_num\n",
    "        merged_gestures[new_num] = dba_gestures[gesture_num] + dbb_gestures[gesture_num]\n",
    "   \n",
    "    new_num = 'c-' + gesture_num\n",
    "    merged_gestures[new_num] = dbc_gestures[gesture_num]\n",
    "\n",
    "print(merged_gestures.keys())\n",
    "print(len(merged_gestures.keys()))"
   ]
  },
  {
   "cell_type": "code",
   "execution_count": null,
   "metadata": {},
   "outputs": [],
   "source": [
    "OUTPUT_DIR = '../data/capg_baseline/'\n",
    "for key, gesture in merged_gestures.items():\n",
    "    gesture_frames = np.empty((len(gesture), 1000, 8, 16, 3))\n",
    "    for i in range(len(gesture)):\n",
    "        gesture_frames[i] = gesture[i]\n",
    "    output_file = key + '.h5'\n",
    "    out_loc = os.path.join(OUTPUT_DIR, output_file)\n",
    "    print('FILE:{}, SAMPLE AMOUNT:{}'.format(output_file, gesture_frames.shape[0]))\n",
    "    h5f = h5py.File(out_loc, 'w')\n",
    "    h5f.create_dataset(output_file, data=gesture_frames)\n",
    "\n",
    "h5f.close()"
   ]
  },
  {
   "cell_type": "code",
   "execution_count": 7,
   "metadata": {},
   "outputs": [
    {
     "data": {
      "text/plain": [
       "<matplotlib.image.AxesImage at 0xb4a26e4a8>"
      ]
     },
     "execution_count": 7,
     "metadata": {},
     "output_type": "execute_result"
    }
   ],
   "source": [
    "import matplotlib.pyplot as plt\n",
    "\n",
    "mat = loadmat('../data/capg_raw/dba-preprocessed-001/001-001-001.mat')\n",
    "emg_array = np.array(mat['data'])\n",
    "scale = 10000\n",
    "emg_array = (emg_array * scale + 2.5*scale) / (5*scale)\n",
    "frame = np.reshape(emg_array[0,:], (8, 16))\n",
    "plt.imshow(frame, cmap=plt.cm.gray_r)\n",
    "# TODO: how to smooth the image?\n",
    "# if the cnn can detect the fluctuation of single pixel?\n",
    "# TODO: try different filters or use LSTM directly"
   ]
  },
  {
   "cell_type": "code",
   "execution_count": 8,
   "metadata": {},
   "outputs": [
    {
     "name": "stdout",
     "output_type": "stream",
     "text": [
      "(8, 16, 3)\n"
     ]
    },
    {
     "data": {
      "text/plain": [
       "<matplotlib.image.AxesImage at 0xb4a77e2e8>"
      ]
     },
     "execution_count": 8,
     "metadata": {},
     "output_type": "execute_result"
    },
    {
     "data": {
      "image/png": "[encoded data removed]",
      "text/plain": [
       "<Figure size 432x288 with 1 Axes>"
      ]
     },
     "metadata": {
      "needs_background": "light"
     },
     "output_type": "display_data"
    }
   ],
   "source": [
    "# replicate three times as RGB channel\n",
    "frame_3d = frame[:,:,None] * np.ones(3, dtype=int)[None,None,:]\n",
    "print(frame_3d.shape)\n",
    "plt.imshow(frame_3d, cmap=plt.cm.gray_r)"
   ]
  },
  {
   "cell_type": "code",
   "execution_count": 20,
   "metadata": {
    "scrolled": false
   },
   "outputs": [
    {
     "data": {
      "text/plain": [
       "<Figure size 21600x3600 with 0 Axes>"
      ]
     },
     "metadata": {},
     "output_type": "display_data"
    }
   ],
   "source": [
    "# 可视化1000行数据\n",
    "plt.figure(figsize=(300,50))\n",
    "mat = loadmat('../data/capg_raw/dba-preprocessed-001/001-001-001.mat')\n",
    "emg_array = np.array(mat['data'])\n",
    "scale = 10000\n",
    "emg_array = (emg_array * scale + 2.5*scale) / (5*scale)\n",
    "# plt.imshow(emg_array)#, cmap=plt.cm.gray_r)"
   ]
  },
  {
   "cell_type": "code",
   "execution_count": null,
   "metadata": {},
   "outputs": [],
   "source": []
  }
 ],
 "metadata": {
  "kernelspec": {
   "display_name": "Python 3",
   "language": "python",
   "name": "python3"
  },
  "language_info": {
   "codemirror_mode": {
    "name": "ipython",
    "version": 3
   },
   "file_extension": ".py",
   "mimetype": "text/x-python",
   "name": "python",
   "nbconvert_exporter": "python",
   "pygments_lexer": "ipython3",
   "version": "3.6.7"
  }
 },
 "nbformat": 4,
 "nbformat_minor": 2
}
