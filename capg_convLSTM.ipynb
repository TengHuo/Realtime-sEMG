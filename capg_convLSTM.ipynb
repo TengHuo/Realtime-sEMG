{
 "cells": [
  {
   "cell_type": "markdown",
   "metadata": {},
   "source": [
    "## train a basic LSTM model\n",
    "\n",
    "<p><input type=\"checkbox\", disabled, checked> 1. refactor the processing data code in a utils.py file</p>\n",
    "<p><input type=\"checkbox\", disabled, checked> 2. train a LSTM model</p>\n",
    "<p><input type=\"checkbox\", disabled> 2. train a ConvLSTM model</p>"
   ]
  },
  {
   "cell_type": "code",
   "execution_count": 1,
   "metadata": {},
   "outputs": [],
   "source": [
    "import numpy as np\n",
    "import os\n",
    "import matplotlib.pyplot as plt\n",
    "\n",
    "import tensorflow as tf\n",
    "from tensorflow.keras.models import Model, Sequential\n",
    "from tensorflow.keras.layers import ConvLSTM2D, BatchNormalization, Dense, Flatten, Input\n",
    "from tensorflow.keras.optimizers import SGD, Adam\n",
    "from tensorflow.keras import utils, regularizers\n",
    "from tensorflow.keras.callbacks import TensorBoard, LearningRateScheduler\n",
    "from tensorflow.keras import backend as K\n",
    "\n",
    "from utils.data import load_capg_data, CapgDBName, LoadMode\n",
    "\n",
    "from tensorflow.compat.v1 import ConfigProto\n",
    "from tensorflow.compat.v1 import InteractiveSession\n",
    "config = ConfigProto()\n",
    "config.gpu_options.allow_growth = True\n",
    "session = InteractiveSession(config=config)\n",
    "K.set_session(session)  # set this TensorFlow session as the default session for Keras"
   ]
  },
  {
   "cell_type": "code",
   "execution_count": 2,
   "metadata": {},
   "outputs": [],
   "source": [
    "# set const values\n",
    "weights_file = './models/capg_convLSTM_weights.h5'\n",
    "model_file = './models/capg_convLSTM_model.h5'\n",
    "window_len = 50\n",
    "BATCH_SIZE = 128\n",
    "test_splite = 0.1"
   ]
  },
  {
   "cell_type": "code",
   "execution_count": 3,
   "metadata": {},
   "outputs": [
    {
     "name": "stdout",
     "output_type": "stream",
     "text": [
      "train set\n",
      "(26060, 50, 16, 8, 1)\n",
      "(26060, 8)\n",
      "test set\n",
      "(2880, 50, 16, 8, 1)\n",
      "(2880, 8)\n"
     ]
    }
   ],
   "source": [
    "# load capg dba data\n",
    "x_train, y_train, category = load_capg_data(CapgDBName.dba, LoadMode.sequence_frame)\n",
    "seg_length = int(x_train.shape[1] / window_len)\n",
    "\n",
    "x_train = x_train.reshape(x_train.shape[0]*seg_length, window_len, x_train.shape[2], x_train.shape[3], x_train.shape[4])\n",
    "y_train = y_train.reshape(y_train.shape[0], 1) * np.ones((1, seg_length))\n",
    "y_train = y_train.flatten()\n",
    "y_train = utils.to_categorical(y_train - 1, category)\n",
    "\n",
    "index = np.random.choice(x_train.shape[0], int(x_train.shape[0]*test_splite))\n",
    "x_test = x_train[index]\n",
    "y_test = y_train[index]\n",
    "\n",
    "x_train = np.delete(x_train, index, axis=0)\n",
    "y_train = np.delete(y_train, index, axis=0)\n",
    "\n",
    "print('train set')\n",
    "print(x_train.shape)\n",
    "print(y_train.shape)\n",
    "print('test set')\n",
    "print(x_test.shape)\n",
    "print(y_test.shape)"
   ]
  },
  {
   "cell_type": "code",
   "execution_count": 4,
   "metadata": {},
   "outputs": [],
   "source": [
    "# inputs = Input(shape=(50, 16, 8, 1), name='input')\n",
    "# x = ConvLSTM2D(filters=32, kernel_size=(3,3), input_shape=(128, 50, 16, 8, 1), padding='same', activation='relu',\n",
    "#                activity_regularizer=regularizers.l1(l=0.01), name='convlstm_1')(inputs)\n",
    "\n",
    "# x = Flatten(name='flat')(x)\n",
    "# predictions = Dense(8, activation='softmax', name='output')(x)\n",
    "# model = Model(inputs=inputs, outputs=predictions)"
   ]
  },
  {
   "cell_type": "code",
   "execution_count": 5,
   "metadata": {},
   "outputs": [
    {
     "name": "stdout",
     "output_type": "stream",
     "text": [
      "WARNING:tensorflow:From /home/teng/anaconda3/envs/py36/lib/python3.6/site-packages/tensorflow/python/ops/resource_variable_ops.py:435: colocate_with (from tensorflow.python.framework.ops) is deprecated and will be removed in a future version.\n",
      "Instructions for updating:\n",
      "Colocations handled automatically by placer.\n",
      "train a new model\n"
     ]
    }
   ],
   "source": [
    "model = Sequential()\n",
    "model.add(ConvLSTM2D(filters=32, kernel_size=(3,3), input_shape=(50, 16, 8, 1), padding='same',\n",
    "                     activation='relu', activity_regularizer=regularizers.l1(l=0.01), name='convlstm_1'))\n",
    "model.add(Flatten(name='flat'))\n",
    "# model.add(BatchNormalization(momentum=0.9, name='bn_1'))\n",
    "# model.add(Dense(256, activation='relu', name='dense_1'))\n",
    "model.add(Dense(8, activation='softmax', name='output'))\n",
    "\n",
    "if os.path.exists(model_file):\n",
    "    print('load weights from a trained model')\n",
    "    model.load_weights(model_file, by_name=True)\n",
    "else:\n",
    "    print('train a new model')"
   ]
  },
  {
   "cell_type": "code",
   "execution_count": 6,
   "metadata": {},
   "outputs": [
    {
     "name": "stdout",
     "output_type": "stream",
     "text": [
      "_________________________________________________________________\n",
      "Layer (type)                 Output Shape              Param #   \n",
      "=================================================================\n",
      "convlstm_1 (ConvLSTM2D)      (None, 16, 8, 32)         38144     \n",
      "_________________________________________________________________\n",
      "flat (Flatten)               (None, 4096)              0         \n",
      "_________________________________________________________________\n",
      "output (Dense)               (None, 8)                 32776     \n",
      "=================================================================\n",
      "Total params: 70,920\n",
      "Trainable params: 70,920\n",
      "Non-trainable params: 0\n",
      "_________________________________________________________________\n"
     ]
    }
   ],
   "source": [
    "sgd = SGD(clipnorm=1, clipvalue=0.5, momentum=0.9)\n",
    "# adam = Adam(epsilon=10e-8, clipnorm=1, clipvalue=0.5)\n",
    "model.compile(optimizer=sgd, loss='categorical_crossentropy', metrics=['accuracy'])\n",
    "model.summary()"
   ]
  },
  {
   "cell_type": "code",
   "execution_count": 7,
   "metadata": {},
   "outputs": [],
   "source": [
    "# tb_callback = TensorBoard(log_dir='./logs/lstm/',\n",
    "#                           histogram_freq=1,\n",
    "#                           batch_size=32,\n",
    "#                           write_grads=True,\n",
    "#                           update_freq='batch')"
   ]
  },
  {
   "cell_type": "code",
   "execution_count": 8,
   "metadata": {},
   "outputs": [],
   "source": [
    "def learning_rate_tuner(epoch):\n",
    "    lr = 0.1\n",
    "    if 16 <= epoch < 40:\n",
    "        lr = 0.01\n",
    "    elif epoch >= 40:\n",
    "        lr = 0.001\n",
    "    return lr\n",
    "\n",
    "lr_scheduler = LearningRateScheduler(learning_rate_tuner)"
   ]
  },
  {
   "cell_type": "code",
   "execution_count": 9,
   "metadata": {
    "scrolled": true
   },
   "outputs": [
    {
     "name": "stdout",
     "output_type": "stream",
     "text": [
      "Train on 26060 samples, validate on 2880 samples\n",
      "WARNING:tensorflow:From /home/teng/anaconda3/envs/py36/lib/python3.6/site-packages/tensorflow/python/ops/math_ops.py:3066: to_int32 (from tensorflow.python.ops.math_ops) is deprecated and will be removed in a future version.\n",
      "Instructions for updating:\n",
      "Use tf.cast instead.\n",
      "Epoch 1/60\n",
      "26060/26060 [==============================] - 26s 1ms/sample - loss: 2.0816 - acc: 0.1239 - val_loss: 2.0816 - val_acc: 0.1243\n",
      "Epoch 2/60\n",
      "26060/26060 [==============================] - 25s 975us/sample - loss: 2.0809 - acc: 0.1255 - val_loss: 2.0736 - val_acc: 0.1358\n",
      "Epoch 3/60\n",
      "26060/26060 [==============================] - 25s 977us/sample - loss: 2.0661 - acc: 0.1284 - val_loss: 2.0608 - val_acc: 0.1323\n",
      "Epoch 4/60\n",
      "26060/26060 [==============================] - 25s 974us/sample - loss: 2.0641 - acc: 0.1305 - val_loss: 2.0603 - val_acc: 0.1330\n",
      "Epoch 5/60\n",
      "26060/26060 [==============================] - 25s 973us/sample - loss: 2.0626 - acc: 0.1398 - val_loss: 2.0619 - val_acc: 0.1351\n",
      "Epoch 6/60\n",
      "26060/26060 [==============================] - 25s 977us/sample - loss: 1.9601 - acc: 0.2282 - val_loss: 1.7773 - val_acc: 0.3542\n",
      "Epoch 7/60\n",
      "26060/26060 [==============================] - 25s 975us/sample - loss: 1.7031 - acc: 0.3980 - val_loss: 1.6290 - val_acc: 0.4451\n",
      "Epoch 8/60\n",
      "26060/26060 [==============================] - 25s 977us/sample - loss: 1.5847 - acc: 0.4571 - val_loss: 1.5568 - val_acc: 0.4660\n",
      "Epoch 9/60\n",
      "26060/26060 [==============================] - 26s 979us/sample - loss: 1.5221 - acc: 0.4917 - val_loss: 1.4854 - val_acc: 0.5083\n",
      "Epoch 10/60\n",
      "26060/26060 [==============================] - 26s 981us/sample - loss: 1.4529 - acc: 0.5226 - val_loss: 1.4522 - val_acc: 0.5149\n",
      "Epoch 11/60\n",
      "26060/26060 [==============================] - 25s 978us/sample - loss: 1.4238 - acc: 0.5343 - val_loss: 1.4153 - val_acc: 0.5347\n",
      "Epoch 12/60\n",
      "26060/26060 [==============================] - 25s 977us/sample - loss: 1.4043 - acc: 0.5421 - val_loss: 1.4230 - val_acc: 0.5455\n",
      "Epoch 13/60\n",
      "26060/26060 [==============================] - 26s 982us/sample - loss: 1.3854 - acc: 0.5548 - val_loss: 1.3605 - val_acc: 0.5524\n",
      "Epoch 14/60\n",
      "26060/26060 [==============================] - 26s 979us/sample - loss: 1.3686 - acc: 0.5541 - val_loss: 1.3853 - val_acc: 0.5188\n",
      "Epoch 15/60\n",
      "26060/26060 [==============================] - 26s 980us/sample - loss: 1.3508 - acc: 0.5656 - val_loss: 1.4097 - val_acc: 0.5135\n",
      "Epoch 16/60\n",
      "26060/26060 [==============================] - 26s 984us/sample - loss: 1.3535 - acc: 0.5622 - val_loss: 1.4132 - val_acc: 0.5295\n",
      "Epoch 17/60\n",
      "26060/26060 [==============================] - 26s 982us/sample - loss: 1.3350 - acc: 0.5675 - val_loss: 1.3192 - val_acc: 0.5646\n",
      "Epoch 18/60\n",
      "26060/26060 [==============================] - 26s 983us/sample - loss: 1.3039 - acc: 0.5854 - val_loss: 1.3095 - val_acc: 0.5729\n",
      "Epoch 19/60\n",
      "26060/26060 [==============================] - 26s 986us/sample - loss: 1.2950 - acc: 0.5891 - val_loss: 1.3069 - val_acc: 0.5740\n",
      "Epoch 20/60\n",
      "26060/26060 [==============================] - 26s 984us/sample - loss: 1.2908 - acc: 0.5911 - val_loss: 1.3030 - val_acc: 0.5785\n",
      "Epoch 21/60\n",
      "26060/26060 [==============================] - 26s 987us/sample - loss: 1.2898 - acc: 0.5934 - val_loss: 1.2998 - val_acc: 0.5802\n",
      "Epoch 22/60\n",
      "26060/26060 [==============================] - 26s 983us/sample - loss: 1.2869 - acc: 0.5946 - val_loss: 1.3023 - val_acc: 0.5802\n",
      "Epoch 23/60\n",
      "26060/26060 [==============================] - 26s 982us/sample - loss: 1.2848 - acc: 0.5947 - val_loss: 1.3015 - val_acc: 0.5792\n",
      "Epoch 24/60\n",
      "26060/26060 [==============================] - 26s 984us/sample - loss: 1.2831 - acc: 0.5963 - val_loss: 1.2942 - val_acc: 0.5802\n",
      "Epoch 25/60\n",
      "26060/26060 [==============================] - 26s 982us/sample - loss: 1.2799 - acc: 0.5972 - val_loss: 1.2955 - val_acc: 0.5833\n",
      "Epoch 26/60\n",
      "26060/26060 [==============================] - 26s 986us/sample - loss: 1.2811 - acc: 0.5970 - val_loss: 1.2897 - val_acc: 0.5851\n",
      "Epoch 27/60\n",
      "26060/26060 [==============================] - 26s 982us/sample - loss: 1.2771 - acc: 0.5995 - val_loss: 1.2924 - val_acc: 0.5833\n",
      "Epoch 28/60\n",
      "26060/26060 [==============================] - 26s 981us/sample - loss: 1.2766 - acc: 0.6018 - val_loss: 1.2912 - val_acc: 0.5806\n",
      "Epoch 29/60\n",
      "26060/26060 [==============================] - 26s 988us/sample - loss: 1.2748 - acc: 0.6013 - val_loss: 1.2881 - val_acc: 0.5823\n",
      "Epoch 30/60\n",
      "26060/26060 [==============================] - 26s 991us/sample - loss: 1.2741 - acc: 0.5988 - val_loss: 1.2861 - val_acc: 0.5872\n",
      "Epoch 31/60\n",
      "26060/26060 [==============================] - 26s 982us/sample - loss: 1.2723 - acc: 0.6002 - val_loss: 1.2845 - val_acc: 0.5868\n",
      "Epoch 32/60\n",
      "26060/26060 [==============================] - 26s 984us/sample - loss: 1.2693 - acc: 0.6041 - val_loss: 1.2822 - val_acc: 0.5917\n",
      "Epoch 33/60\n",
      "26060/26060 [==============================] - 26s 984us/sample - loss: 1.2697 - acc: 0.6020 - val_loss: 1.2843 - val_acc: 0.5889\n",
      "Epoch 34/60\n",
      "26060/26060 [==============================] - 26s 980us/sample - loss: 1.2689 - acc: 0.6030 - val_loss: 1.2834 - val_acc: 0.5878\n",
      "Epoch 35/60\n",
      "26060/26060 [==============================] - 26s 981us/sample - loss: 1.2658 - acc: 0.6046 - val_loss: 1.2818 - val_acc: 0.5847\n",
      "Epoch 36/60\n",
      "26060/26060 [==============================] - 26s 979us/sample - loss: 1.2653 - acc: 0.6033 - val_loss: 1.2847 - val_acc: 0.5882\n",
      "Epoch 37/60\n",
      "26060/26060 [==============================] - 26s 979us/sample - loss: 1.2657 - acc: 0.6052 - val_loss: 1.2827 - val_acc: 0.5906\n",
      "Epoch 38/60\n",
      "26060/26060 [==============================] - 26s 983us/sample - loss: 1.2661 - acc: 0.6060 - val_loss: 1.2852 - val_acc: 0.5833\n",
      "Epoch 39/60\n",
      "26060/26060 [==============================] - 26s 981us/sample - loss: 1.2637 - acc: 0.6053 - val_loss: 1.2742 - val_acc: 0.5938\n",
      "Epoch 40/60\n",
      "26060/26060 [==============================] - 26s 984us/sample - loss: 1.2609 - acc: 0.6063 - val_loss: 1.2740 - val_acc: 0.5920\n",
      "Epoch 41/60\n",
      "26060/26060 [==============================] - 26s 980us/sample - loss: 1.2590 - acc: 0.6080 - val_loss: 1.2721 - val_acc: 0.5958\n",
      "Epoch 42/60\n",
      "26060/26060 [==============================] - 26s 984us/sample - loss: 1.2562 - acc: 0.6087 - val_loss: 1.2724 - val_acc: 0.5934\n",
      "Epoch 43/60\n",
      "26060/26060 [==============================] - 26s 981us/sample - loss: 1.2557 - acc: 0.6090 - val_loss: 1.2726 - val_acc: 0.5920\n",
      "Epoch 44/60\n",
      "26060/26060 [==============================] - 26s 982us/sample - loss: 1.2556 - acc: 0.6088 - val_loss: 1.2722 - val_acc: 0.5934\n",
      "Epoch 45/60\n",
      "26060/26060 [==============================] - 26s 984us/sample - loss: 1.2556 - acc: 0.6097 - val_loss: 1.2723 - val_acc: 0.5941\n",
      "Epoch 46/60\n",
      "26060/26060 [==============================] - 26s 982us/sample - loss: 1.2553 - acc: 0.6093 - val_loss: 1.2722 - val_acc: 0.5944\n",
      "Epoch 47/60\n",
      "26060/26060 [==============================] - 26s 985us/sample - loss: 1.2551 - acc: 0.6098 - val_loss: 1.2732 - val_acc: 0.5882\n",
      "Epoch 48/60\n",
      "26060/26060 [==============================] - 26s 987us/sample - loss: 1.2550 - acc: 0.6089 - val_loss: 1.2726 - val_acc: 0.5941\n",
      "Epoch 49/60\n",
      "26060/26060 [==============================] - 26s 982us/sample - loss: 1.2548 - acc: 0.6091 - val_loss: 1.2725 - val_acc: 0.5951\n",
      "Epoch 50/60\n",
      "26060/26060 [==============================] - 26s 980us/sample - loss: 1.2547 - acc: 0.6089 - val_loss: 1.2728 - val_acc: 0.5944\n",
      "Epoch 51/60\n",
      "26060/26060 [==============================] - 26s 982us/sample - loss: 1.2546 - acc: 0.6097 - val_loss: 1.2721 - val_acc: 0.5948\n",
      "Epoch 52/60\n",
      "26060/26060 [==============================] - 26s 984us/sample - loss: 1.2544 - acc: 0.6087 - val_loss: 1.2727 - val_acc: 0.5944\n",
      "Epoch 53/60\n",
      "26060/26060 [==============================] - 26s 981us/sample - loss: 1.2542 - acc: 0.6099 - val_loss: 1.2722 - val_acc: 0.5948\n",
      "Epoch 54/60\n",
      "26060/26060 [==============================] - 26s 983us/sample - loss: 1.2542 - acc: 0.6095 - val_loss: 1.2714 - val_acc: 0.5965\n",
      "Epoch 55/60\n",
      "26060/26060 [==============================] - 26s 984us/sample - loss: 1.2540 - acc: 0.6102 - val_loss: 1.2723 - val_acc: 0.5955\n",
      "Epoch 56/60\n"
     ]
    },
    {
     "name": "stdout",
     "output_type": "stream",
     "text": [
      "26060/26060 [==============================] - 26s 981us/sample - loss: 1.2539 - acc: 0.6094 - val_loss: 1.2722 - val_acc: 0.5951\n",
      "Epoch 57/60\n",
      "26060/26060 [==============================] - 25s 974us/sample - loss: 1.2538 - acc: 0.6106 - val_loss: 1.2720 - val_acc: 0.5927\n",
      "Epoch 58/60\n",
      "26060/26060 [==============================] - 26s 982us/sample - loss: 1.2537 - acc: 0.6102 - val_loss: 1.2715 - val_acc: 0.5962\n",
      "Epoch 59/60\n",
      "26060/26060 [==============================] - 25s 978us/sample - loss: 1.2536 - acc: 0.6094 - val_loss: 1.2723 - val_acc: 0.5924\n",
      "Epoch 60/60\n",
      "26060/26060 [==============================] - 25s 973us/sample - loss: 1.2534 - acc: 0.6100 - val_loss: 1.2715 - val_acc: 0.5965\n"
     ]
    }
   ],
   "source": [
    "history = model.fit(x_train, y_train, batch_size=BATCH_SIZE, epochs=60,\n",
    "                    validation_data=(x_test, y_test), callbacks=[lr_scheduler])"
   ]
  },
  {
   "cell_type": "code",
   "execution_count": 10,
   "metadata": {},
   "outputs": [
    {
     "name": "stdout",
     "output_type": "stream",
     "text": [
      "dict_keys(['loss', 'acc', 'val_loss', 'val_acc', 'lr'])\n"
     ]
    }
   ],
   "source": [
    "model.save_weights(weights_file)\n",
    "model.save(model_file)\n",
    "print(history.history.keys())"
   ]
  },
  {
   "cell_type": "code",
   "execution_count": 11,
   "metadata": {},
   "outputs": [
    {
     "data": {
      "image/png": "[encoded data removed]",
      "text/plain": [
       "<Figure size 432x288 with 1 Axes>"
      ]
     },
     "metadata": {
      "needs_background": "light"
     },
     "output_type": "display_data"
    },
    {
     "data": {
      "image/png": "[encoded data removed]",
      "text/plain": [
       "<Figure size 432x288 with 1 Axes>"
      ]
     },
     "metadata": {
      "needs_background": "light"
     },
     "output_type": "display_data"
    }
   ],
   "source": [
    "# summarize history for accuracy\n",
    "plt.plot(history.history['acc'])\n",
    "plt.plot(history.history['val_acc'])\n",
    "plt.title('Model accuracy')\n",
    "plt.ylabel('Accuracy')\n",
    "plt.xlabel('Epoch')\n",
    "plt.legend(['Train', 'Test'], loc='upper left')\n",
    "plt.savefig('./figures/convlstm_acc.png')\n",
    "plt.show()\n",
    "\n",
    "# summarize history for loss\n",
    "plt.plot(history.history['loss'])\n",
    "plt.plot(history.history['val_loss'])\n",
    "plt.title('Model loss')\n",
    "plt.ylabel('Loss')\n",
    "plt.xlabel('Epoch')\n",
    "plt.legend(['Train', 'Test'], loc='upper left')\n",
    "plt.savefig('./figures/convlstm_loss.png')\n",
    "plt.show()"
   ]
  },
  {
   "cell_type": "code",
   "execution_count": null,
   "metadata": {},
   "outputs": [],
   "source": []
  },
  {
   "cell_type": "code",
   "execution_count": 12,
   "metadata": {},
   "outputs": [],
   "source": [
    "# DATA_DIR = '../data/capg_baseline/'\n",
    "# data_files = os.listdir(DATA_DIR)\n",
    "\n",
    "# data_x = np.empty((60800, 50, 8, 16, 3))\n",
    "# data_y = np.zeros((60800, 8))\n",
    "# i = 0\n",
    "# for file_name in data_files:\n",
    "#     if file_name.find('ab-') == -1:\n",
    "#         continue\n",
    "#     gesture_num = int(file_name[5:6])-1\n",
    "#     h5f = h5py.File(os.path.join(DATA_DIR, file_name))\n",
    "#     # 将数据切为50长度的片段\n",
    "#     emg_data = h5f[file_name][:]\n",
    "#     emg_data = emg_data.reshape((emg_data.shape[0]*20,\n",
    "#                                  50,\n",
    "#                                  emg_data.shape[2], \n",
    "#                                  emg_data.shape[3], \n",
    "#                                  emg_data.shape[4]))\n",
    "#     data_x[7600*i:7600*(i+1)] = emg_data\n",
    "#     data_y[7600*i:7600*(i+1), gesture_num] = 1\n",
    "#     i += 1\n",
    "# print(data_x.shape)\n",
    "# print(data_y.shape)"
   ]
  },
  {
   "cell_type": "code",
   "execution_count": 13,
   "metadata": {},
   "outputs": [],
   "source": [
    "# TODO: \n",
    "# 1. 先检查数据输入是否正确\n",
    "# 2. 每个gesture抽样32000个sample进行训练"
   ]
  },
  {
   "cell_type": "code",
   "execution_count": 14,
   "metadata": {},
   "outputs": [],
   "source": [
    "# x_train, x_test, y_train, y_test = train_test_split(data_x, data_y, test_size=0.1, random_state=42)\n",
    "# print(x_train.shape)\n",
    "# print(y_train.shape)\n",
    "# print()\n",
    "# print(x_test.shape)\n",
    "# print(y_test.shape)\n",
    "# del data_x, data_y"
   ]
  },
  {
   "cell_type": "code",
   "execution_count": null,
   "metadata": {},
   "outputs": [],
   "source": []
  }
 ],
 "metadata": {
  "kernelspec": {
   "display_name": "Python 3",
   "language": "python",
   "name": "python3"
  },
  "language_info": {
   "codemirror_mode": {
    "name": "ipython",
    "version": 3
   },
   "file_extension": ".py",
   "mimetype": "text/x-python",
   "name": "python",
   "nbconvert_exporter": "python",
   "pygments_lexer": "ipython3",
   "version": "3.6.8"
  }
 },
 "nbformat": 4,
 "nbformat_minor": 2
}
