{
 "cells": [
  {
   "cell_type": "markdown",
   "metadata": {},
   "source": [
    "## train a CNN model refer to the paper\n",
    "\n",
    "1. 为什么val的acc和train的acc是反着的？\n",
    "2. 模型的acc不如cnn2的，如何提升？\n",
    "3. acc波动大，如何稳定？\n",
    "\n",
    "### TODO: \n",
    "<p><input type=\"checkbox\", disabled> 1. use the srep code for training data</p>\n",
    "<p><input type=\"checkbox\", disabled> 2. refactor the processing data code in a utils.py file</p>\n",
    "<p><input type=\"checkbox\", disabled> 3. check the input data</p>\n"
   ]
  },
  {
   "cell_type": "code",
   "execution_count": 1,
   "metadata": {},
   "outputs": [],
   "source": [
    "# import numpy as np\n",
    "# import h5py\n",
    "# import os\n",
    "# import matplotlib.pyplot as plt\n",
    "# import sys\n",
    "\n",
    "# from tensorflow.keras.models import Sequential\n",
    "# from tensorflow.keras.layers import Conv2D\n",
    "# from tensorflow.keras.layers import LocallyConnected2D, MaxPooling2D\n",
    "# from tensorflow.keras.layers import Flatten, Dense, Dropout, Activation\n",
    "# from tensorflow.keras.optimizers import SGD\n",
    "# from tensorflow.keras.datasets import fashion_mnist\n",
    "# from tensorflow.keras.utils import to_categorical\n",
    "# from tensorflow.keras.callbacks import TensorBoard\n",
    "\n",
    "# from tensorflow.compat.v1 import ConfigProto\n",
    "# from tensorflow.compat.v1 import InteractiveSession\n",
    "\n",
    "# from tensorflow.keras import backend as K\n",
    "\n",
    "# # from sklearn.model_selection import train_test_split\n",
    "# from data import load_whole_train_data"
   ]
  },
  {
   "cell_type": "code",
   "execution_count": 2,
   "metadata": {},
   "outputs": [],
   "source": [
    "from tensorflow.keras import Sequential\n",
    "from tensorflow.keras.callbacks import LearningRateScheduler\n",
    "from tensorflow.keras.layers import Conv2D, LocallyConnected2D, MaxPooling2D, Activation\n",
    "from tensorflow.keras.layers import BatchNormalization, Dropout, Dense, Flatten\n",
    "from tensorflow.keras.optimizers import SGD, Adam\n",
    "from tensorflow.keras.models import load_model\n",
    "from tensorflow.keras import utils\n",
    "\n",
    "from utils.data import load_whole_train_data\n",
    "\n",
    "from tensorflow.compat.v1 import ConfigProto\n",
    "from tensorflow.compat.v1 import InteractiveSession\n",
    "\n",
    "from tensorflow.keras import backend as K\n",
    "import matplotlib.pyplot as plt"
   ]
  },
  {
   "cell_type": "code",
   "execution_count": 3,
   "metadata": {},
   "outputs": [],
   "source": [
    "config = ConfigProto()\n",
    "config.gpu_options.allow_growth = True\n",
    "session = InteractiveSession(config=config)\n",
    "K.set_session(session)  # set this TensorFlow session as the default session for Keras"
   ]
  },
  {
   "cell_type": "code",
   "execution_count": 4,
   "metadata": {},
   "outputs": [],
   "source": [
    "# (x_train, y_train), (x_test, y_test) = fashion_mnist.load_data()\n",
    "# x_train = x_train.reshape((x_train.shape[0],x_train.shape[1],x_train.shape[2],1))\n",
    "# y_train = to_categorical(y_train, 10)\n",
    "# x_train, x_val, y_train, y_val = train_test_split(x_train, y_train,\n",
    "#                                                   test_size=0.01, random_state=42)\n",
    "# print(x_train.shape)\n",
    "# print(y_train.shape)\n",
    "# print(x_val.shape)\n",
    "# print(y_val.shape)\n",
    "\n",
    "# # x_test = x_test.reshape((x_test.shape[0],x_test.shape[1],x_test.shape[2],1))\n",
    "# # y_test = to_categorical(y_test, 10)\n",
    "# # print(x_test.shape)\n",
    "# # print(y_test.shape)"
   ]
  },
  {
   "cell_type": "code",
   "execution_count": 5,
   "metadata": {},
   "outputs": [],
   "source": [
    "# DATA_DIR = '../data/capg_baseline/'\n",
    "# data_files = os.listdir(DATA_DIR)\n",
    "\n",
    "# data_x = np.empty((3040000, 8, 16, 3))\n",
    "# data_y = np.zeros((3040000, 8))\n",
    "# i = 0\n",
    "# for file_name in data_files:\n",
    "#     if file_name.find('ab-') == -1:\n",
    "#         continue\n",
    "#     gesture_num = int(file_name[5:6])-1\n",
    "#     h5f = h5py.File(os.path.join(DATA_DIR, file_name))\n",
    "#     # 将数据切为50长度的片段\n",
    "#     emg_data = h5f[file_name][:]\n",
    "#     emg_data = emg_data.reshape((emg_data.shape[0]*1000, \n",
    "#                                  emg_data.shape[2], \n",
    "#                                  emg_data.shape[3], \n",
    "#                                  emg_data.shape[4]))\n",
    "# #     print(emg_data.shape)\n",
    "#     data_x[380000*i:380000*(i+1)] = emg_data\n",
    "#     data_y[380000*i:380000*(i+1), gesture_num] = 1\n",
    "#     i += 1\n",
    "    \n",
    "# print(data_x.shape)\n",
    "# print(data_y.shape)"
   ]
  },
  {
   "cell_type": "code",
   "execution_count": 6,
   "metadata": {},
   "outputs": [],
   "source": [
    "# # 抽样进行训练\n",
    "# train_sample_index = np.random.choice(range(0, data_x.shape[0]), size=61440)\n",
    "# x_train = data_x[train_sample_index]\n",
    "# y_train = data_y[train_sample_index]\n",
    "# print(x_train.shape)\n",
    "# print(y_train.shape)\n",
    "\n",
    "# test_sample_index = np.random.choice(range(0, data_x.shape[0]), size=640)\n",
    "# x_test = data_x[test_sample_index]\n",
    "# y_test = data_y[test_sample_index]\n",
    "# print(x_test.shape)\n",
    "# print(y_test.shape)"
   ]
  },
  {
   "cell_type": "code",
   "execution_count": 7,
   "metadata": {},
   "outputs": [],
   "source": [
    "# import pandas as pd\n",
    "# test = pd.DataFrame(y_train)"
   ]
  },
  {
   "cell_type": "code",
   "execution_count": 8,
   "metadata": {},
   "outputs": [],
   "source": [
    "# print(test[test[0]==1.0].shape[0])\n",
    "# print(test[test[1]==1.0].shape[0])\n",
    "# print(test[test[2]==1.0].shape[0])\n",
    "# print(test[test[3]==1.0].shape[0])\n",
    "# print(test[test[4]==1.0].shape[0])\n",
    "# print(test[test[5]==1.0].shape[0])\n",
    "# print(test[test[6]==1.0].shape[0])\n",
    "# print(test[test[7]==1.0].shape[0])"
   ]
  },
  {
   "cell_type": "code",
   "execution_count": 9,
   "metadata": {},
   "outputs": [
    {
     "name": "stdout",
     "output_type": "stream",
     "text": [
      "(1440000, 16, 8, 1)\n",
      "(1440000, 8)\n"
     ]
    }
   ],
   "source": [
    "x, y = load_whole_train_data()\n",
    "\n",
    "x_train = x.reshape(x.shape[0], 16, 8, 1)\n",
    "y_train = utils.to_categorical(y - 1, 8)\n",
    "\n",
    "\n",
    "print(x_train.shape)\n",
    "print(y_train.shape)"
   ]
  },
  {
   "cell_type": "code",
   "execution_count": 10,
   "metadata": {},
   "outputs": [],
   "source": [
    "model = Sequential()\n",
    "model.add(Conv2D(filters=64, kernel_size=(3,3), padding='same', activation='relu',\n",
    "                 input_shape=(16,8,1)))\n",
    "model.add(Conv2D(filters=64, kernel_size=(3,3), padding='same', activation='relu'))\n",
    "model.add(LocallyConnected2D(64, (1,1), activation='relu'))\n",
    "model.add(LocallyConnected2D(64, (1,1), activation='relu'))\n",
    "model.add(Dropout(0.5))\n",
    "model.add(Flatten())\n",
    "model.add(Dense(512, activation='relu'))\n",
    "model.add(Dropout(0.5))\n",
    "model.add(Dense(512, activation='relu'))\n",
    "model.add(Dropout(0.5))\n",
    "model.add(Dense(128, activation='relu'))\n",
    "model.add(Dense(units=8, activation='softmax'))"
   ]
  },
  {
   "cell_type": "code",
   "execution_count": 11,
   "metadata": {},
   "outputs": [
    {
     "name": "stdout",
     "output_type": "stream",
     "text": [
      "Model: \"sequential\"\n",
      "_________________________________________________________________\n",
      "Layer (type)                 Output Shape              Param #   \n",
      "=================================================================\n",
      "conv2d (Conv2D)              (None, 16, 8, 64)         640       \n",
      "_________________________________________________________________\n",
      "conv2d_1 (Conv2D)            (None, 16, 8, 64)         36928     \n",
      "_________________________________________________________________\n",
      "locally_connected2d (Locally (None, 16, 8, 64)         532480    \n",
      "_________________________________________________________________\n",
      "locally_connected2d_1 (Local (None, 16, 8, 64)         532480    \n",
      "_________________________________________________________________\n",
      "dropout (Dropout)            (None, 16, 8, 64)         0         \n",
      "_________________________________________________________________\n",
      "flatten (Flatten)            (None, 8192)              0         \n",
      "_________________________________________________________________\n",
      "dense (Dense)                (None, 512)               4194816   \n",
      "_________________________________________________________________\n",
      "dropout_1 (Dropout)          (None, 512)               0         \n",
      "_________________________________________________________________\n",
      "dense_1 (Dense)              (None, 512)               262656    \n",
      "_________________________________________________________________\n",
      "dropout_2 (Dropout)          (None, 512)               0         \n",
      "_________________________________________________________________\n",
      "dense_2 (Dense)              (None, 128)               65664     \n",
      "_________________________________________________________________\n",
      "dense_3 (Dense)              (None, 8)                 1032      \n",
      "=================================================================\n",
      "Total params: 5,626,696\n",
      "Trainable params: 5,626,696\n",
      "Non-trainable params: 0\n",
      "_________________________________________________________________\n"
     ]
    }
   ],
   "source": [
    "# optimizer = SGD(0.1, decay=0.0001)\n",
    "model.compile(optimizer='adam', loss='categorical_crossentropy', metrics=['accuracy'])\n",
    "model.summary()"
   ]
  },
  {
   "cell_type": "code",
   "execution_count": 12,
   "metadata": {},
   "outputs": [],
   "source": [
    "# tbCallBack = TensorBoard(log_dir='./logs',  # log directory\n",
    "#                  histogram_freq=1,\n",
    "#                  batch_size=32,\n",
    "#                  write_graph=True,\n",
    "#                  write_grads=True,\n",
    "#                  write_images=True,\n",
    "#                  embeddings_freq=0,\n",
    "#                  update_freq='batch',\n",
    "#                  embeddings_layer_names=None, \n",
    "#                  embeddings_metadata=None)"
   ]
  },
  {
   "cell_type": "code",
   "execution_count": 13,
   "metadata": {
    "scrolled": false
   },
   "outputs": [
    {
     "name": "stdout",
     "output_type": "stream",
     "text": [
      "Train on 1296000 samples, validate on 144000 samples\n",
      "Epoch 1/60\n",
      "1296000/1296000 [==============================] - 337s 260us/sample - loss: 1.3161 - accuracy: 0.4864 - val_loss: 0.9487 - val_accuracy: 0.6351\n",
      "Epoch 2/60\n",
      "1296000/1296000 [==============================] - 335s 259us/sample - loss: 0.9513 - accuracy: 0.6427 - val_loss: 0.7694 - val_accuracy: 0.7138\n",
      "Epoch 3/60\n",
      "1296000/1296000 [==============================] - 332s 256us/sample - loss: 0.8299 - accuracy: 0.6912 - val_loss: 0.6976 - val_accuracy: 0.7369\n",
      "Epoch 4/60\n",
      "1296000/1296000 [==============================] - 335s 258us/sample - loss: 0.7602 - accuracy: 0.7192 - val_loss: 0.6418 - val_accuracy: 0.7642\n",
      "Epoch 5/60\n",
      "1296000/1296000 [==============================] - 335s 258us/sample - loss: 0.7162 - accuracy: 0.7367 - val_loss: 0.6188 - val_accuracy: 0.7739\n",
      "Epoch 6/60\n",
      "1296000/1296000 [==============================] - 334s 258us/sample - loss: 0.6844 - accuracy: 0.7494 - val_loss: 0.5872 - val_accuracy: 0.7869\n",
      "Epoch 7/60\n",
      "1296000/1296000 [==============================] - 334s 257us/sample - loss: 0.6588 - accuracy: 0.7599 - val_loss: 0.5706 - val_accuracy: 0.7972\n",
      "Epoch 8/60\n",
      "1296000/1296000 [==============================] - 335s 259us/sample - loss: 0.6400 - accuracy: 0.7669 - val_loss: 0.5533 - val_accuracy: 0.8025\n",
      "Epoch 9/60\n",
      "1296000/1296000 [==============================] - 335s 259us/sample - loss: 0.6224 - accuracy: 0.7746 - val_loss: 0.5357 - val_accuracy: 0.8100\n",
      "Epoch 10/60\n",
      "1296000/1296000 [==============================] - 332s 256us/sample - loss: 0.6072 - accuracy: 0.7800 - val_loss: 0.5392 - val_accuracy: 0.8067\n",
      "Epoch 11/60\n",
      "1296000/1296000 [==============================] - 334s 258us/sample - loss: 0.5943 - accuracy: 0.7856 - val_loss: 0.5153 - val_accuracy: 0.8197\n",
      "Epoch 12/60\n",
      "1296000/1296000 [==============================] - 334s 258us/sample - loss: 0.5824 - accuracy: 0.7898 - val_loss: 0.5235 - val_accuracy: 0.8115\n",
      "Epoch 13/60\n",
      "1296000/1296000 [==============================] - 331s 255us/sample - loss: 0.5732 - accuracy: 0.7939 - val_loss: 0.5177 - val_accuracy: 0.8131\n",
      "Epoch 14/60\n",
      "1296000/1296000 [==============================] - 334s 258us/sample - loss: 0.5650 - accuracy: 0.7968 - val_loss: 0.5024 - val_accuracy: 0.8244\n",
      "Epoch 15/60\n",
      "1296000/1296000 [==============================] - 334s 257us/sample - loss: 0.5564 - accuracy: 0.8003 - val_loss: 0.4975 - val_accuracy: 0.8194\n",
      "Epoch 16/60\n",
      "1296000/1296000 [==============================] - 331s 255us/sample - loss: 0.5494 - accuracy: 0.8032 - val_loss: 0.4979 - val_accuracy: 0.8257\n",
      "Epoch 17/60\n",
      "1296000/1296000 [==============================] - 333s 257us/sample - loss: 0.5436 - accuracy: 0.8052 - val_loss: 0.4838 - val_accuracy: 0.8304\n",
      "Epoch 18/60\n",
      "1296000/1296000 [==============================] - 333s 257us/sample - loss: 0.5365 - accuracy: 0.8086 - val_loss: 0.4783 - val_accuracy: 0.8307\n",
      "Epoch 19/60\n",
      "1296000/1296000 [==============================] - 332s 256us/sample - loss: 0.5308 - accuracy: 0.8099 - val_loss: 0.4824 - val_accuracy: 0.8291\n",
      "Epoch 20/60\n",
      "1296000/1296000 [==============================] - 330s 254us/sample - loss: 0.5259 - accuracy: 0.8124 - val_loss: 0.4742 - val_accuracy: 0.8312\n",
      "Epoch 21/60\n",
      "1296000/1296000 [==============================] - 332s 256us/sample - loss: 0.5228 - accuracy: 0.8135 - val_loss: 0.4924 - val_accuracy: 0.8232\n",
      "Epoch 22/60\n",
      "1296000/1296000 [==============================] - 332s 256us/sample - loss: 0.5167 - accuracy: 0.8160 - val_loss: 0.4738 - val_accuracy: 0.8295\n",
      "Epoch 23/60\n",
      "1296000/1296000 [==============================] - 329s 254us/sample - loss: 0.5126 - accuracy: 0.8174 - val_loss: 0.4871 - val_accuracy: 0.8268\n",
      "Epoch 24/60\n",
      "1296000/1296000 [==============================] - 331s 255us/sample - loss: 0.5091 - accuracy: 0.8187 - val_loss: 0.4908 - val_accuracy: 0.8265\n",
      "Epoch 25/60\n",
      "1296000/1296000 [==============================] - 331s 255us/sample - loss: 0.5047 - accuracy: 0.8212 - val_loss: 0.4810 - val_accuracy: 0.8304\n",
      "Epoch 26/60\n",
      "1296000/1296000 [==============================] - 328s 253us/sample - loss: 0.5009 - accuracy: 0.8225 - val_loss: 0.4655 - val_accuracy: 0.8382\n",
      "Epoch 27/60\n",
      "1296000/1296000 [==============================] - 330s 255us/sample - loss: 0.4981 - accuracy: 0.8237 - val_loss: 0.4477 - val_accuracy: 0.8462\n",
      "Epoch 28/60\n",
      "1296000/1296000 [==============================] - 330s 254us/sample - loss: 0.4954 - accuracy: 0.8245 - val_loss: 0.4550 - val_accuracy: 0.8420\n",
      "Epoch 29/60\n",
      "1296000/1296000 [==============================] - 330s 254us/sample - loss: 0.4917 - accuracy: 0.8258 - val_loss: 0.4576 - val_accuracy: 0.8447\n",
      "Epoch 30/60\n",
      "1296000/1296000 [==============================] - 326s 251us/sample - loss: 0.4882 - accuracy: 0.8276 - val_loss: 0.4600 - val_accuracy: 0.8387\n",
      "Epoch 31/60\n",
      "1296000/1296000 [==============================] - 330s 254us/sample - loss: 0.4874 - accuracy: 0.8277 - val_loss: 0.4712 - val_accuracy: 0.8374\n",
      "Epoch 32/60\n",
      "1296000/1296000 [==============================] - 329s 254us/sample - loss: 0.4842 - accuracy: 0.8296 - val_loss: 0.4541 - val_accuracy: 0.8391\n",
      "Epoch 33/60\n",
      "1296000/1296000 [==============================] - 327s 252us/sample - loss: 0.4814 - accuracy: 0.8303 - val_loss: 0.4559 - val_accuracy: 0.8422\n",
      "Epoch 34/60\n",
      "1296000/1296000 [==============================] - 329s 253us/sample - loss: 0.4798 - accuracy: 0.8305 - val_loss: 0.4638 - val_accuracy: 0.8417\n",
      "Epoch 35/60\n",
      "1296000/1296000 [==============================] - 329s 254us/sample - loss: 0.4774 - accuracy: 0.8315 - val_loss: 0.4617 - val_accuracy: 0.8430\n",
      "Epoch 36/60\n",
      "1296000/1296000 [==============================] - 328s 253us/sample - loss: 0.4758 - accuracy: 0.8326 - val_loss: 0.4772 - val_accuracy: 0.8329\n",
      "Epoch 37/60\n",
      "1296000/1296000 [==============================] - 326s 251us/sample - loss: 0.4727 - accuracy: 0.8337 - val_loss: 0.4685 - val_accuracy: 0.8378\n",
      "Epoch 38/60\n",
      "1296000/1296000 [==============================] - 329s 254us/sample - loss: 0.4710 - accuracy: 0.8342 - val_loss: 0.4537 - val_accuracy: 0.8421\n",
      "Epoch 39/60\n",
      "1296000/1296000 [==============================] - 328s 253us/sample - loss: 0.4695 - accuracy: 0.8350 - val_loss: 0.4529 - val_accuracy: 0.8425\n",
      "Epoch 40/60\n",
      "1296000/1296000 [==============================] - 325s 251us/sample - loss: 0.4675 - accuracy: 0.8361 - val_loss: 0.4622 - val_accuracy: 0.8377\n",
      "Epoch 41/60\n",
      "1296000/1296000 [==============================] - 327s 252us/sample - loss: 0.4658 - accuracy: 0.8365 - val_loss: 0.4483 - val_accuracy: 0.8435\n",
      "Epoch 42/60\n",
      "1296000/1296000 [==============================] - 327s 252us/sample - loss: 0.4639 - accuracy: 0.8371 - val_loss: 0.4469 - val_accuracy: 0.8451\n",
      "Epoch 43/60\n",
      "1296000/1296000 [==============================] - 327s 252us/sample - loss: 0.4634 - accuracy: 0.8374 - val_loss: 0.4429 - val_accuracy: 0.8481\n",
      "Epoch 44/60\n",
      "1296000/1296000 [==============================] - 323s 249us/sample - loss: 0.4618 - accuracy: 0.8381 - val_loss: 0.4412 - val_accuracy: 0.8483\n",
      "Epoch 45/60\n",
      "1296000/1296000 [==============================] - 326s 252us/sample - loss: 0.4600 - accuracy: 0.8387 - val_loss: 0.4542 - val_accuracy: 0.8439\n",
      "Epoch 46/60\n",
      "1296000/1296000 [==============================] - 326s 252us/sample - loss: 0.4588 - accuracy: 0.8395 - val_loss: 0.4497 - val_accuracy: 0.8419\n",
      "Epoch 47/60\n",
      "1296000/1296000 [==============================] - 225s 173us/sample - loss: 0.4567 - accuracy: 0.8399 - val_loss: 0.4549 - val_accuracy: 0.8423\n",
      "Epoch 48/60\n",
      "1296000/1296000 [==============================] - 211s 163us/sample - loss: 0.4548 - accuracy: 0.8406 - val_loss: 0.4463 - val_accuracy: 0.8425\n",
      "Epoch 49/60\n",
      "1296000/1296000 [==============================] - 210s 162us/sample - loss: 0.4538 - accuracy: 0.8411 - val_loss: 0.4709 - val_accuracy: 0.8321\n",
      "Epoch 50/60\n",
      "1296000/1296000 [==============================] - 209s 162us/sample - loss: 0.4527 - accuracy: 0.8416 - val_loss: 0.4376 - val_accuracy: 0.8524\n",
      "Epoch 51/60\n",
      "1296000/1296000 [==============================] - 209s 161us/sample - loss: 0.4516 - accuracy: 0.8420 - val_loss: 0.4439 - val_accuracy: 0.8447\n",
      "Epoch 52/60\n",
      "1296000/1296000 [==============================] - 208s 160us/sample - loss: 0.4506 - accuracy: 0.8424 - val_loss: 0.4441 - val_accuracy: 0.8447\n"
     ]
    },
    {
     "name": "stdout",
     "output_type": "stream",
     "text": [
      "Epoch 53/60\n",
      "1296000/1296000 [==============================] - 237s 183us/sample - loss: 0.4496 - accuracy: 0.8429 - val_loss: 0.4522 - val_accuracy: 0.8391\n",
      "Epoch 54/60\n",
      "1296000/1296000 [==============================] - 238s 184us/sample - loss: 0.4476 - accuracy: 0.8433 - val_loss: 0.4448 - val_accuracy: 0.8468\n",
      "Epoch 55/60\n",
      "1296000/1296000 [==============================] - 238s 183us/sample - loss: 0.4456 - accuracy: 0.8442 - val_loss: 0.4482 - val_accuracy: 0.8442\n",
      "Epoch 56/60\n",
      "1296000/1296000 [==============================] - 239s 184us/sample - loss: 0.4453 - accuracy: 0.8444 - val_loss: 0.4543 - val_accuracy: 0.8408\n",
      "Epoch 57/60\n",
      "1296000/1296000 [==============================] - 236s 182us/sample - loss: 0.4461 - accuracy: 0.8441 - val_loss: 0.4470 - val_accuracy: 0.8488\n",
      "Epoch 58/60\n",
      "1296000/1296000 [==============================] - 235s 181us/sample - loss: 0.4451 - accuracy: 0.8450 - val_loss: 0.4430 - val_accuracy: 0.8434\n",
      "Epoch 59/60\n",
      "1296000/1296000 [==============================] - 236s 182us/sample - loss: 0.4416 - accuracy: 0.8455 - val_loss: 0.4689 - val_accuracy: 0.8361\n",
      "Epoch 60/60\n",
      "1296000/1296000 [==============================] - 236s 182us/sample - loss: 0.4439 - accuracy: 0.8454 - val_loss: 0.4453 - val_accuracy: 0.8443\n"
     ]
    }
   ],
   "source": [
    "history = model.fit(x_train, y_train, batch_size=128, epochs=60, validation_split=0.1)"
   ]
  },
  {
   "cell_type": "code",
   "execution_count": 14,
   "metadata": {},
   "outputs": [
    {
     "data": {
      "image/png": "[encoded data removed]",
      "text/plain": [
       "<Figure size 432x288 with 1 Axes>"
      ]
     },
     "metadata": {
      "needs_background": "light"
     },
     "output_type": "display_data"
    },
    {
     "data": {
      "image/png": "[encoded data removed]",
      "text/plain": [
       "<Figure size 432x288 with 1 Axes>"
      ]
     },
     "metadata": {
      "needs_background": "light"
     },
     "output_type": "display_data"
    }
   ],
   "source": [
    "# 绘制训练 & 验证的准确率值\n",
    "plt.plot(history.history['accuracy'])\n",
    "plt.plot(history.history['val_accuracy'])\n",
    "plt.title('Model accuracy')\n",
    "plt.ylabel('Accuracy')\n",
    "plt.xlabel('Epoch')\n",
    "plt.legend(['Train', 'Test'], loc='upper left')\n",
    "plt.show()\n",
    "\n",
    "# 绘制训练 & 验证的损失值\n",
    "plt.plot(history.history['loss'])\n",
    "plt.plot(history.history['val_loss'])\n",
    "plt.title('Model loss')\n",
    "plt.ylabel('Loss')\n",
    "plt.xlabel('Epoch')\n",
    "plt.legend(['Train', 'Test'], loc='upper left')\n",
    "plt.show()"
   ]
  },
  {
   "cell_type": "code",
   "execution_count": null,
   "metadata": {},
   "outputs": [],
   "source": []
  }
 ],
 "metadata": {
  "kernelspec": {
   "display_name": "Python 3",
   "language": "python",
   "name": "python3"
  },
  "language_info": {
   "codemirror_mode": {
    "name": "ipython",
    "version": 3
   },
   "file_extension": ".py",
   "mimetype": "text/x-python",
   "name": "python",
   "nbconvert_exporter": "python",
   "pygments_lexer": "ipython3",
   "version": "3.5.2"
  }
 },
 "nbformat": 4,
 "nbformat_minor": 2
}
