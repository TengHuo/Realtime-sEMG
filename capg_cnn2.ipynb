{
 "cells": [
  {
   "cell_type": "markdown",
   "metadata": {},
   "source": [
    "1. acc很高，但有些过拟合，如何处理？\n",
    "2. test上的acc不再提升，如何解决？"
   ]
  },
  {
   "cell_type": "code",
   "execution_count": 1,
   "metadata": {},
   "outputs": [],
   "source": [
    "import numpy as np\n",
    "import os\n",
    "import matplotlib.pyplot as plt\n",
    "\n",
    "import tensorflow as tf\n",
    "from tensorflow.keras.models import Sequential\n",
    "from tensorflow.keras.layers import Conv2D, LocallyConnected2D, MaxPooling2D, Activation\n",
    "from tensorflow.keras.layers import BatchNormalization, Dropout, Dense, Flatten\n",
    "from tensorflow.keras.optimizers import SGD\n",
    "from tensorflow.keras import utils, regularizers\n",
    "from tensorflow.keras.callbacks import TensorBoard, LearningRateScheduler\n",
    "from tensorflow.keras import backend as K\n",
    "\n",
    "from utils.data import load_capg_data, CapgDBName, LoadMode\n",
    "\n",
    "from tensorflow.compat.v1 import ConfigProto\n",
    "from tensorflow.compat.v1 import InteractiveSession\n",
    "config = ConfigProto()\n",
    "config.gpu_options.allow_growth = True\n",
    "session = InteractiveSession(config=config)\n",
    "K.set_session(session)  # set this TensorFlow session as the default session for Keras"
   ]
  },
  {
   "cell_type": "code",
   "execution_count": 2,
   "metadata": {},
   "outputs": [],
   "source": [
    "# set const values\n",
    "weights_file = './models/capg_cnn2_weights.h5'\n",
    "model_file = './models/capg_cnn2_model.h5'"
   ]
  },
  {
   "cell_type": "code",
   "execution_count": 3,
   "metadata": {},
   "outputs": [
    {
     "name": "stdout",
     "output_type": "stream",
     "text": [
      "(1440000, 16, 8, 1)\n",
      "(1440000, 8)\n"
     ]
    }
   ],
   "source": [
    "# load capg dba data\n",
    "x, y, category = load_capg_data(CapgDBName.dba, LoadMode.flat_frame)\n",
    "y = utils.to_categorical(y - 1, category)\n",
    "\n",
    "print(x.shape)\n",
    "print(y.shape)"
   ]
  },
  {
   "cell_type": "code",
   "execution_count": 4,
   "metadata": {},
   "outputs": [
    {
     "name": "stdout",
     "output_type": "stream",
     "text": [
      "train a new model\n"
     ]
    }
   ],
   "source": [
    "'''\n",
    "根据论文实现的模型\n",
    "TODO:Locallyconnected2D可能不尽人意\n",
    "'''\n",
    "model = Sequential()\n",
    "\n",
    "model.add(BatchNormalization(input_shape=[16, 8, 1], momentum=0.9))\n",
    "\n",
    "model.add(Conv2D(64, (3, 3), use_bias=False,\n",
    "                 padding='same', strides=(1, 1)))\n",
    "model.add(BatchNormalization(momentum=0.9))\n",
    "model.add(Activation('relu'))\n",
    "\n",
    "model.add(Conv2D(64, (3, 3), use_bias=False,\n",
    "                 padding='same', strides=(1, 1)))\n",
    "model.add(BatchNormalization(momentum=0.9))\n",
    "model.add(Activation('relu'))\n",
    "\n",
    "model.add(LocallyConnected2D(64, (1, 1), use_bias=False))\n",
    "model.add(BatchNormalization(momentum=0.9))\n",
    "model.add(Activation('relu'))\n",
    "\n",
    "model.add(LocallyConnected2D(64, (1, 1), use_bias=False))\n",
    "model.add(BatchNormalization(momentum=0.9))\n",
    "model.add(Activation('relu'))\n",
    "model.add(Dropout(0.5))\n",
    "\n",
    "model.add(Flatten())\n",
    "model.add(Dense(units=512, use_bias=False))\n",
    "model.add(BatchNormalization(momentum=0.9))\n",
    "model.add(Activation('relu'))\n",
    "model.add(Dropout(0.5))\n",
    "\n",
    "model.add(Dense(units=512, use_bias=False))\n",
    "model.add(BatchNormalization(momentum=0.9))\n",
    "model.add(Activation('relu'))\n",
    "model.add(Dropout(0.5))\n",
    "\n",
    "model.add(Dense(units=128, use_bias=False))\n",
    "model.add(BatchNormalization(momentum=0.9))\n",
    "model.add(Activation('relu'))\n",
    "\n",
    "model.add(Dense(units=8, use_bias=True))\n",
    "model.add(Activation('softmax'))\n",
    "\n",
    "if os.path.exists(model_file):\n",
    "    print('load weights from a trained model')\n",
    "    model.load_weights(model_file, by_name=True)\n",
    "else:\n",
    "    print('train a new model')"
   ]
  },
  {
   "cell_type": "code",
   "execution_count": 5,
   "metadata": {
    "scrolled": false
   },
   "outputs": [
    {
     "name": "stdout",
     "output_type": "stream",
     "text": [
      "Model: \"sequential\"\n",
      "_________________________________________________________________\n",
      "Layer (type)                 Output Shape              Param #   \n",
      "=================================================================\n",
      "batch_normalization_v2 (Batc (None, 16, 8, 1)          4         \n",
      "_________________________________________________________________\n",
      "conv2d (Conv2D)              (None, 16, 8, 64)         576       \n",
      "_________________________________________________________________\n",
      "batch_normalization_v2_1 (Ba (None, 16, 8, 64)         256       \n",
      "_________________________________________________________________\n",
      "activation (Activation)      (None, 16, 8, 64)         0         \n",
      "_________________________________________________________________\n",
      "conv2d_1 (Conv2D)            (None, 16, 8, 64)         36864     \n",
      "_________________________________________________________________\n",
      "batch_normalization_v2_2 (Ba (None, 16, 8, 64)         256       \n",
      "_________________________________________________________________\n",
      "activation_1 (Activation)    (None, 16, 8, 64)         0         \n",
      "_________________________________________________________________\n",
      "locally_connected2d (Locally (None, 16, 8, 64)         524288    \n",
      "_________________________________________________________________\n",
      "batch_normalization_v2_3 (Ba (None, 16, 8, 64)         256       \n",
      "_________________________________________________________________\n",
      "activation_2 (Activation)    (None, 16, 8, 64)         0         \n",
      "_________________________________________________________________\n",
      "locally_connected2d_1 (Local (None, 16, 8, 64)         524288    \n",
      "_________________________________________________________________\n",
      "batch_normalization_v2_4 (Ba (None, 16, 8, 64)         256       \n",
      "_________________________________________________________________\n",
      "activation_3 (Activation)    (None, 16, 8, 64)         0         \n",
      "_________________________________________________________________\n",
      "dropout (Dropout)            (None, 16, 8, 64)         0         \n",
      "_________________________________________________________________\n",
      "flatten (Flatten)            (None, 8192)              0         \n",
      "_________________________________________________________________\n",
      "dense (Dense)                (None, 512)               4194304   \n",
      "_________________________________________________________________\n",
      "batch_normalization_v2_5 (Ba (None, 512)               2048      \n",
      "_________________________________________________________________\n",
      "activation_4 (Activation)    (None, 512)               0         \n",
      "_________________________________________________________________\n",
      "dropout_1 (Dropout)          (None, 512)               0         \n",
      "_________________________________________________________________\n",
      "dense_1 (Dense)              (None, 512)               262144    \n",
      "_________________________________________________________________\n",
      "batch_normalization_v2_6 (Ba (None, 512)               2048      \n",
      "_________________________________________________________________\n",
      "activation_5 (Activation)    (None, 512)               0         \n",
      "_________________________________________________________________\n",
      "dropout_2 (Dropout)          (None, 512)               0         \n",
      "_________________________________________________________________\n",
      "dense_2 (Dense)              (None, 128)               65536     \n",
      "_________________________________________________________________\n",
      "batch_normalization_v2_7 (Ba (None, 128)               512       \n",
      "_________________________________________________________________\n",
      "activation_6 (Activation)    (None, 128)               0         \n",
      "_________________________________________________________________\n",
      "dense_3 (Dense)              (None, 8)                 1032      \n",
      "_________________________________________________________________\n",
      "activation_7 (Activation)    (None, 8)                 0         \n",
      "=================================================================\n",
      "Total params: 5,614,668\n",
      "Trainable params: 5,611,850\n",
      "Non-trainable params: 2,818\n",
      "_________________________________________________________________\n"
     ]
    }
   ],
   "source": [
    "sgd = SGD(momentum=0.9)\n",
    "model.compile(optimizer=sgd, loss='categorical_crossentropy', metrics=['accuracy'])\n",
    "model.summary()"
   ]
  },
  {
   "cell_type": "code",
   "execution_count": 6,
   "metadata": {},
   "outputs": [],
   "source": [
    "# tb_callback = TensorBoard(log_dir='./logs/lstm/',\n",
    "#                           histogram_freq=1,\n",
    "#                           batch_size=32,\n",
    "#                           write_grads=True,\n",
    "#                           update_freq='batch')"
   ]
  },
  {
   "cell_type": "code",
   "execution_count": 7,
   "metadata": {},
   "outputs": [],
   "source": [
    "def learning_rate_tuner(epoch):\n",
    "    lr = 0.1\n",
    "    if 20 <= epoch < 40:\n",
    "        lr = 0.01\n",
    "    elif epoch >= 40:\n",
    "        lr = 0.001\n",
    "    return lr\n",
    "\n",
    "lr_scheduler = LearningRateScheduler(learning_rate_tuner)"
   ]
  },
  {
   "cell_type": "code",
   "execution_count": 8,
   "metadata": {
    "scrolled": false
   },
   "outputs": [
    {
     "name": "stdout",
     "output_type": "stream",
     "text": [
      "Train on 1296000 samples, validate on 144000 samples\n",
      "Epoch 1/60\n",
      "1296000/1296000 [==============================] - 227s 175us/sample - loss: 1.2018 - accuracy: 0.5336 - val_loss: 0.8113 - val_accuracy: 0.6831\n",
      "Epoch 2/60\n",
      "1296000/1296000 [==============================] - 223s 172us/sample - loss: 0.7982 - accuracy: 0.7013 - val_loss: 0.6230 - val_accuracy: 0.7636\n",
      "Epoch 3/60\n",
      "1296000/1296000 [==============================] - 222s 172us/sample - loss: 0.6851 - accuracy: 0.7460 - val_loss: 0.5723 - val_accuracy: 0.7829\n",
      "Epoch 4/60\n",
      "1296000/1296000 [==============================] - 222s 171us/sample - loss: 0.6206 - accuracy: 0.7705 - val_loss: 0.5160 - val_accuracy: 0.8070\n",
      "Epoch 5/60\n",
      "1296000/1296000 [==============================] - 222s 172us/sample - loss: 0.5754 - accuracy: 0.7875 - val_loss: 0.4829 - val_accuracy: 0.8202\n",
      "Epoch 6/60\n",
      "1296000/1296000 [==============================] - 222s 171us/sample - loss: 0.5390 - accuracy: 0.8024 - val_loss: 0.4810 - val_accuracy: 0.8159\n",
      "Epoch 7/60\n",
      "1296000/1296000 [==============================] - 219s 169us/sample - loss: 0.5119 - accuracy: 0.8121 - val_loss: 0.4491 - val_accuracy: 0.8317\n",
      "Epoch 8/60\n",
      "1296000/1296000 [==============================] - 219s 169us/sample - loss: 0.4904 - accuracy: 0.8204 - val_loss: 0.4448 - val_accuracy: 0.8340\n",
      "Epoch 9/60\n",
      "1296000/1296000 [==============================] - 219s 169us/sample - loss: 0.4712 - accuracy: 0.8274 - val_loss: 0.4382 - val_accuracy: 0.8357\n",
      "Epoch 10/60\n",
      "1296000/1296000 [==============================] - 218s 168us/sample - loss: 0.4549 - accuracy: 0.8337 - val_loss: 0.4101 - val_accuracy: 0.8486\n",
      "Epoch 11/60\n",
      "1296000/1296000 [==============================] - 218s 168us/sample - loss: 0.4412 - accuracy: 0.8386 - val_loss: 0.4273 - val_accuracy: 0.8394\n",
      "Epoch 12/60\n",
      "1296000/1296000 [==============================] - 218s 168us/sample - loss: 0.4281 - accuracy: 0.8439 - val_loss: 0.4065 - val_accuracy: 0.8503\n",
      "Epoch 13/60\n",
      "1296000/1296000 [==============================] - 217s 167us/sample - loss: 0.4181 - accuracy: 0.8473 - val_loss: 0.4182 - val_accuracy: 0.8412\n",
      "Epoch 14/60\n",
      "1296000/1296000 [==============================] - 217s 168us/sample - loss: 0.4076 - accuracy: 0.8516 - val_loss: 0.3904 - val_accuracy: 0.8550\n",
      "Epoch 15/60\n",
      "1296000/1296000 [==============================] - 216s 167us/sample - loss: 0.3990 - accuracy: 0.8548 - val_loss: 0.3909 - val_accuracy: 0.8565\n",
      "Epoch 16/60\n",
      "1296000/1296000 [==============================] - 216s 167us/sample - loss: 0.3905 - accuracy: 0.8576 - val_loss: 0.3847 - val_accuracy: 0.8564\n",
      "Epoch 17/60\n",
      "1296000/1296000 [==============================] - 217s 167us/sample - loss: 0.3842 - accuracy: 0.8601 - val_loss: 0.3925 - val_accuracy: 0.8527\n",
      "Epoch 18/60\n",
      "1296000/1296000 [==============================] - 215s 166us/sample - loss: 0.3761 - accuracy: 0.8630 - val_loss: 0.3731 - val_accuracy: 0.8613\n",
      "Epoch 19/60\n",
      "1296000/1296000 [==============================] - 215s 166us/sample - loss: 0.3697 - accuracy: 0.8651 - val_loss: 0.3753 - val_accuracy: 0.8620\n",
      "Epoch 20/60\n",
      "1296000/1296000 [==============================] - 216s 166us/sample - loss: 0.3635 - accuracy: 0.8678 - val_loss: 0.3738 - val_accuracy: 0.8618\n",
      "Epoch 21/60\n",
      "1296000/1296000 [==============================] - 215s 166us/sample - loss: 0.3272 - accuracy: 0.8807 - val_loss: 0.3534 - val_accuracy: 0.8697\n",
      "Epoch 22/60\n",
      "1296000/1296000 [==============================] - 215s 166us/sample - loss: 0.3164 - accuracy: 0.8845 - val_loss: 0.3509 - val_accuracy: 0.8711\n",
      "Epoch 23/60\n",
      "1296000/1296000 [==============================] - 215s 166us/sample - loss: 0.3122 - accuracy: 0.8864 - val_loss: 0.3520 - val_accuracy: 0.8706\n",
      "Epoch 24/60\n",
      "1296000/1296000 [==============================] - 215s 166us/sample - loss: 0.3085 - accuracy: 0.8875 - val_loss: 0.3501 - val_accuracy: 0.8723\n",
      "Epoch 25/60\n",
      "1296000/1296000 [==============================] - 213s 164us/sample - loss: 0.3055 - accuracy: 0.8886 - val_loss: 0.3495 - val_accuracy: 0.8727\n",
      "Epoch 26/60\n",
      "1296000/1296000 [==============================] - 213s 165us/sample - loss: 0.3025 - accuracy: 0.8899 - val_loss: 0.3470 - val_accuracy: 0.8739\n",
      "Epoch 27/60\n",
      "1296000/1296000 [==============================] - 213s 164us/sample - loss: 0.3007 - accuracy: 0.8901 - val_loss: 0.3495 - val_accuracy: 0.8729\n",
      "Epoch 28/60\n",
      "1296000/1296000 [==============================] - 213s 164us/sample - loss: 0.2991 - accuracy: 0.8913 - val_loss: 0.3465 - val_accuracy: 0.8731\n",
      "Epoch 29/60\n",
      "1296000/1296000 [==============================] - 213s 164us/sample - loss: 0.2972 - accuracy: 0.8916 - val_loss: 0.3441 - val_accuracy: 0.8749\n",
      "Epoch 30/60\n",
      "1296000/1296000 [==============================] - 212s 164us/sample - loss: 0.2961 - accuracy: 0.8920 - val_loss: 0.3461 - val_accuracy: 0.8732\n",
      "Epoch 31/60\n",
      "1296000/1296000 [==============================] - 213s 164us/sample - loss: 0.2946 - accuracy: 0.8927 - val_loss: 0.3471 - val_accuracy: 0.8738\n",
      "Epoch 32/60\n",
      "1296000/1296000 [==============================] - 213s 164us/sample - loss: 0.2929 - accuracy: 0.8933 - val_loss: 0.3481 - val_accuracy: 0.8740\n",
      "Epoch 33/60\n",
      "1296000/1296000 [==============================] - 212s 163us/sample - loss: 0.2918 - accuracy: 0.8938 - val_loss: 0.3468 - val_accuracy: 0.8746\n",
      "Epoch 34/60\n",
      "1296000/1296000 [==============================] - 212s 164us/sample - loss: 0.2907 - accuracy: 0.8940 - val_loss: 0.3457 - val_accuracy: 0.8745\n",
      "Epoch 35/60\n",
      "1296000/1296000 [==============================] - 212s 163us/sample - loss: 0.2894 - accuracy: 0.8945 - val_loss: 0.3411 - val_accuracy: 0.8759\n",
      "Epoch 36/60\n",
      "1296000/1296000 [==============================] - 211s 162us/sample - loss: 0.2868 - accuracy: 0.8953 - val_loss: 0.3463 - val_accuracy: 0.8747\n",
      "Epoch 37/60\n",
      "1296000/1296000 [==============================] - 211s 163us/sample - loss: 0.2868 - accuracy: 0.8956 - val_loss: 0.3430 - val_accuracy: 0.8754\n",
      "Epoch 38/60\n",
      "1296000/1296000 [==============================] - 211s 163us/sample - loss: 0.2848 - accuracy: 0.8962 - val_loss: 0.3436 - val_accuracy: 0.8759\n",
      "Epoch 39/60\n",
      "1296000/1296000 [==============================] - 211s 163us/sample - loss: 0.2839 - accuracy: 0.8966 - val_loss: 0.3447 - val_accuracy: 0.8761\n",
      "Epoch 40/60\n",
      "1296000/1296000 [==============================] - 211s 162us/sample - loss: 0.2819 - accuracy: 0.8972 - val_loss: 0.3480 - val_accuracy: 0.8741\n",
      "Epoch 41/60\n",
      "1296000/1296000 [==============================] - 210s 162us/sample - loss: 0.2784 - accuracy: 0.8984 - val_loss: 0.3451 - val_accuracy: 0.8753\n",
      "Epoch 42/60\n",
      "1296000/1296000 [==============================] - 210s 162us/sample - loss: 0.2780 - accuracy: 0.8984 - val_loss: 0.3436 - val_accuracy: 0.8759\n",
      "Epoch 43/60\n",
      "1296000/1296000 [==============================] - 209s 162us/sample - loss: 0.2766 - accuracy: 0.8990 - val_loss: 0.3415 - val_accuracy: 0.8771\n",
      "Epoch 44/60\n",
      "1296000/1296000 [==============================] - 208s 160us/sample - loss: 0.2757 - accuracy: 0.8994 - val_loss: 0.3445 - val_accuracy: 0.8762\n",
      "Epoch 45/60\n",
      "1296000/1296000 [==============================] - 208s 161us/sample - loss: 0.2753 - accuracy: 0.8997 - val_loss: 0.3427 - val_accuracy: 0.8771\n",
      "Epoch 46/60\n",
      "1296000/1296000 [==============================] - 208s 160us/sample - loss: 0.2765 - accuracy: 0.8991 - val_loss: 0.3419 - val_accuracy: 0.8773\n",
      "Epoch 47/60\n",
      "1296000/1296000 [==============================] - 207s 160us/sample - loss: 0.2760 - accuracy: 0.8992 - val_loss: 0.3446 - val_accuracy: 0.8756\n",
      "Epoch 48/60\n",
      "1296000/1296000 [==============================] - 207s 160us/sample - loss: 0.2750 - accuracy: 0.8999 - val_loss: 0.3430 - val_accuracy: 0.8766\n",
      "Epoch 49/60\n",
      "1296000/1296000 [==============================] - 206s 159us/sample - loss: 0.2750 - accuracy: 0.8997 - val_loss: 0.3441 - val_accuracy: 0.8760\n",
      "Epoch 50/60\n",
      "1296000/1296000 [==============================] - 206s 159us/sample - loss: 0.2743 - accuracy: 0.9000 - val_loss: 0.3435 - val_accuracy: 0.8760\n",
      "Epoch 51/60\n",
      "1296000/1296000 [==============================] - 205s 158us/sample - loss: 0.2746 - accuracy: 0.9001 - val_loss: 0.3432 - val_accuracy: 0.8768\n",
      "Epoch 52/60\n",
      "1296000/1296000 [==============================] - 205s 158us/sample - loss: 0.2742 - accuracy: 0.9001 - val_loss: 0.3424 - val_accuracy: 0.8763\n"
     ]
    },
    {
     "name": "stdout",
     "output_type": "stream",
     "text": [
      "Epoch 53/60\n",
      "1296000/1296000 [==============================] - 227s 175us/sample - loss: 0.2738 - accuracy: 0.9001 - val_loss: 0.3445 - val_accuracy: 0.8762\n",
      "Epoch 54/60\n",
      "1296000/1296000 [==============================] - 227s 175us/sample - loss: 0.2742 - accuracy: 0.8998 - val_loss: 0.3421 - val_accuracy: 0.8763\n",
      "Epoch 55/60\n",
      "1296000/1296000 [==============================] - 226s 175us/sample - loss: 0.2733 - accuracy: 0.9003 - val_loss: 0.3415 - val_accuracy: 0.8769\n",
      "Epoch 56/60\n",
      "1296000/1296000 [==============================] - 226s 174us/sample - loss: 0.2735 - accuracy: 0.9002 - val_loss: 0.3405 - val_accuracy: 0.8776\n",
      "Epoch 57/60\n",
      "1296000/1296000 [==============================] - 226s 174us/sample - loss: 0.2739 - accuracy: 0.9001 - val_loss: 0.3428 - val_accuracy: 0.8766\n",
      "Epoch 58/60\n",
      "1296000/1296000 [==============================] - 226s 174us/sample - loss: 0.2740 - accuracy: 0.9001 - val_loss: 0.3406 - val_accuracy: 0.8776\n",
      "Epoch 59/60\n",
      "1296000/1296000 [==============================] - 225s 174us/sample - loss: 0.2729 - accuracy: 0.9004 - val_loss: 0.3410 - val_accuracy: 0.8774\n",
      "Epoch 60/60\n",
      "1296000/1296000 [==============================] - 225s 174us/sample - loss: 0.2725 - accuracy: 0.9006 - val_loss: 0.3449 - val_accuracy: 0.8758\n"
     ]
    }
   ],
   "source": [
    "history = model.fit(x, y, batch_size=256, epochs=60, validation_split=0.1,\n",
    "                    callbacks=[lr_scheduler])"
   ]
  },
  {
   "cell_type": "code",
   "execution_count": 9,
   "metadata": {},
   "outputs": [
    {
     "name": "stdout",
     "output_type": "stream",
     "text": [
      "dict_keys(['accuracy', 'val_loss', 'loss', 'lr', 'val_accuracy'])\n"
     ]
    }
   ],
   "source": [
    "model.save_weights(weights_file)\n",
    "model.save(model_file)\n",
    "print(history.history.keys())"
   ]
  },
  {
   "cell_type": "code",
   "execution_count": 10,
   "metadata": {},
   "outputs": [
    {
     "data": {
      "image/png": "[encoded data removed]",
      "text/plain": [
       "<Figure size 432x288 with 1 Axes>"
      ]
     },
     "metadata": {
      "needs_background": "light"
     },
     "output_type": "display_data"
    },
    {
     "data": {
      "image/png": "[encoded data removed]",
      "text/plain": [
       "<Figure size 432x288 with 1 Axes>"
      ]
     },
     "metadata": {
      "needs_background": "light"
     },
     "output_type": "display_data"
    }
   ],
   "source": [
    "# summarize history for accuracy\n",
    "plt.plot(history.history['accuracy'])\n",
    "plt.plot(history.history['val_accuracy'])\n",
    "plt.title('Model accuracy')\n",
    "plt.ylabel('Accuracy')\n",
    "plt.xlabel('Epoch')\n",
    "plt.legend(['Train', 'Test'], loc='upper left')\n",
    "plt.savefig('./figures/lstm_acc.png')\n",
    "plt.show()\n",
    "\n",
    "# summarize history for loss\n",
    "plt.plot(history.history['loss'])\n",
    "plt.plot(history.history['val_loss'])\n",
    "plt.title('Model loss')\n",
    "plt.ylabel('Loss')\n",
    "plt.xlabel('Epoch')\n",
    "plt.legend(['Train', 'Test'], loc='upper left')\n",
    "plt.savefig('./figures/lstm_loss.png')\n",
    "plt.show()"
   ]
  },
  {
   "cell_type": "code",
   "execution_count": null,
   "metadata": {},
   "outputs": [],
   "source": []
  }
 ],
 "metadata": {
  "kernelspec": {
   "display_name": "Python 3",
   "language": "python",
   "name": "python3"
  },
  "language_info": {
   "codemirror_mode": {
    "name": "ipython",
    "version": 3
   },
   "file_extension": ".py",
   "mimetype": "text/x-python",
   "name": "python",
   "nbconvert_exporter": "python",
   "pygments_lexer": "ipython3",
   "version": "3.5.2"
  }
 },
 "nbformat": 4,
 "nbformat_minor": 2
}
