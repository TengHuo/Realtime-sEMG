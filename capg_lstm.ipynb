{
 "cells": [
  {
   "cell_type": "markdown",
   "metadata": {},
   "source": [
    "### TODO\n",
    "1. 模型过拟合，加入batchNormalization和dropout\n",
    "2. 增加LSTM堆叠，提高模型accuracy\n",
    "3. 按照LSTM的代码格式，修改两个CNN的格式重新训练，训练完保存模型"
   ]
  },
  {
   "cell_type": "code",
   "execution_count": 1,
   "metadata": {},
   "outputs": [],
   "source": [
    "import numpy as np\n",
    "import os\n",
    "import matplotlib.pyplot as plt\n",
    "\n",
    "import tensorflow as tf\n",
    "from tensorflow.keras.models import Sequential\n",
    "from tensorflow.keras.layers import LSTM, Dense, Dropout\n",
    "from tensorflow.keras.optimizers import SGD\n",
    "from tensorflow.keras import utils, regularizers\n",
    "from tensorflow.keras.callbacks import TensorBoard, LearningRateScheduler\n",
    "from tensorflow.keras import backend as K\n",
    "\n",
    "from utils.data import load_capg_data, CapgDBName, LoadMode\n",
    "\n",
    "from tensorflow.compat.v1 import ConfigProto\n",
    "from tensorflow.compat.v1 import InteractiveSession\n",
    "config = ConfigProto()\n",
    "config.gpu_options.allow_growth = True\n",
    "session = InteractiveSession(config=config)\n",
    "K.set_session(session)  # set this TensorFlow session as the default session for Keras"
   ]
  },
  {
   "cell_type": "code",
   "execution_count": 2,
   "metadata": {},
   "outputs": [],
   "source": [
    "# set const values\n",
    "weights_file = './models/capg_lstm_weights.h5'\n",
    "model_file = './models/capg_lstm_model.h5'\n",
    "window_len = 50"
   ]
  },
  {
   "cell_type": "code",
   "execution_count": 3,
   "metadata": {},
   "outputs": [
    {
     "name": "stdout",
     "output_type": "stream",
     "text": [
      "(28800, 50, 128)\n",
      "(28800, 8)\n"
     ]
    }
   ],
   "source": [
    "# load capg dba data\n",
    "x, y, category = load_capg_data(CapgDBName.dba, LoadMode.sequence)\n",
    "seg_length = int(x.shape[1] / window_len)\n",
    "\n",
    "x = x.reshape(x.shape[0]*seg_length, window_len, x.shape[2])\n",
    "y = y.reshape(y.shape[0], 1) * np.ones((1, seg_length))\n",
    "y = y.flatten()\n",
    "y = utils.to_categorical(y - 1, category)\n",
    "\n",
    "print(x.shape)\n",
    "print(y.shape)"
   ]
  },
  {
   "cell_type": "code",
   "execution_count": 4,
   "metadata": {},
   "outputs": [
    {
     "name": "stderr",
     "output_type": "stream",
     "text": [
      "WARNING: Logging before flag parsing goes to stderr.\n",
      "W0315 22:33:39.115752 140551768930048 tf_logging.py:161] <tensorflow.python.keras.layers.recurrent.UnifiedLSTM object at 0x7fd3c47c1ef0>: Note that this layer is not optimized for performance. Please use tf.keras.layers.CuDNNLSTM for better performance on GPU.\n",
      "W0315 22:33:39.370231 140551768930048 deprecation.py:506] From /usr/local/lib/python3.5/dist-packages/tensorflow/python/keras/backend.py:4081: calling dropout (from tensorflow.python.ops.nn_ops) with keep_prob is deprecated and will be removed in a future version.\n",
      "Instructions for updating:\n",
      "Please use `rate` instead of `keep_prob`. Rate should be set to `rate = 1 - keep_prob`.\n"
     ]
    },
    {
     "name": "stdout",
     "output_type": "stream",
     "text": [
      "train a new model\n"
     ]
    }
   ],
   "source": [
    "model = Sequential()\n",
    "model.add(LSTM(256, activation='relu', input_shape=(window_len, 128), dropout=0.2,\n",
    "               activity_regularizer=regularizers.l2(l=0.01), name='lstm_1'))\n",
    "# model.add(LSTM(256, activation='relu', return_sequences=True, name='lstm_2'))  # returns a sequence of vectors of dimension 32\n",
    "# model.add(LSTM(256, activation='relu', name='lstm_3'))  # return a single vector of dimension 32\n",
    "model.add(Dense(8, activation='softmax', name='output'))\n",
    "\n",
    "if os.path.exists(model_file):\n",
    "    print('load weights from a trained model')\n",
    "    model.load_weights(model_file, by_name=True)\n",
    "else:\n",
    "    print('train a new model')"
   ]
  },
  {
   "cell_type": "code",
   "execution_count": 5,
   "metadata": {},
   "outputs": [
    {
     "name": "stdout",
     "output_type": "stream",
     "text": [
      "Model: \"sequential\"\n",
      "_________________________________________________________________\n",
      "Layer (type)                 Output Shape              Param #   \n",
      "=================================================================\n",
      "lstm_1 (UnifiedLSTM)         (None, 256)               394240    \n",
      "_________________________________________________________________\n",
      "output (Dense)               (None, 8)                 2056      \n",
      "=================================================================\n",
      "Total params: 396,296\n",
      "Trainable params: 396,296\n",
      "Non-trainable params: 0\n",
      "_________________________________________________________________\n"
     ]
    }
   ],
   "source": [
    "sgd = SGD(clipnorm=1, clipvalue=0.5, momentum=0.9)\n",
    "model.compile(optimizer=sgd, loss='categorical_crossentropy', metrics=['accuracy'])\n",
    "model.summary()"
   ]
  },
  {
   "cell_type": "code",
   "execution_count": 6,
   "metadata": {},
   "outputs": [],
   "source": [
    "# tb_callback = TensorBoard(log_dir='./logs/lstm/',\n",
    "#                           histogram_freq=1,\n",
    "#                           batch_size=32,\n",
    "#                           write_grads=True,\n",
    "#                           update_freq='batch')"
   ]
  },
  {
   "cell_type": "code",
   "execution_count": 7,
   "metadata": {},
   "outputs": [],
   "source": [
    "def learning_rate_tuner(epoch):\n",
    "    lr = 0.1\n",
    "    if 20 <= epoch < 40:\n",
    "        lr = 0.01\n",
    "    elif epoch >= 40:\n",
    "        lr = 0.001\n",
    "    return lr\n",
    "\n",
    "lr_scheduler = LearningRateScheduler(learning_rate_tuner)"
   ]
  },
  {
   "cell_type": "code",
   "execution_count": 8,
   "metadata": {
    "scrolled": false
   },
   "outputs": [
    {
     "name": "stdout",
     "output_type": "stream",
     "text": [
      "Train on 25920 samples, validate on 2880 samples\n",
      "Epoch 1/60\n",
      "25920/25920 [==============================] - 20s 759us/sample - loss: 2.0673 - accuracy: 0.1369 - val_loss: 2.0715 - val_accuracy: 0.1361\n",
      "Epoch 2/60\n",
      "25920/25920 [==============================] - 19s 716us/sample - loss: 2.0502 - accuracy: 0.1598 - val_loss: 2.0422 - val_accuracy: 0.1545\n",
      "Epoch 3/60\n",
      "25920/25920 [==============================] - 18s 712us/sample - loss: 2.0540 - accuracy: 0.1640 - val_loss: 2.0436 - val_accuracy: 0.1663\n",
      "Epoch 4/60\n",
      "25920/25920 [==============================] - 18s 708us/sample - loss: 2.0028 - accuracy: 0.1898 - val_loss: 1.8969 - val_accuracy: 0.2385\n",
      "Epoch 5/60\n",
      "25920/25920 [==============================] - 19s 721us/sample - loss: 1.9357 - accuracy: 0.2062 - val_loss: 1.9297 - val_accuracy: 0.1983\n",
      "Epoch 6/60\n",
      "25920/25920 [==============================] - 19s 716us/sample - loss: 1.8765 - accuracy: 0.2270 - val_loss: 1.8162 - val_accuracy: 0.2799\n",
      "Epoch 7/60\n",
      "25920/25920 [==============================] - 19s 715us/sample - loss: 1.8339 - accuracy: 0.2478 - val_loss: 1.7522 - val_accuracy: 0.2951\n",
      "Epoch 8/60\n",
      "25920/25920 [==============================] - 19s 730us/sample - loss: 1.7957 - accuracy: 0.2624 - val_loss: 1.8550 - val_accuracy: 0.2660\n",
      "Epoch 9/60\n",
      "25920/25920 [==============================] - 18s 708us/sample - loss: 1.7559 - accuracy: 0.2814 - val_loss: 1.7400 - val_accuracy: 0.3198\n",
      "Epoch 10/60\n",
      "25920/25920 [==============================] - 19s 717us/sample - loss: 1.7087 - accuracy: 0.3063 - val_loss: 1.6724 - val_accuracy: 0.3299\n",
      "Epoch 11/60\n",
      "25920/25920 [==============================] - 19s 735us/sample - loss: 1.6315 - accuracy: 0.3383 - val_loss: 1.6269 - val_accuracy: 0.3566\n",
      "Epoch 12/60\n",
      "25920/25920 [==============================] - 19s 717us/sample - loss: 1.5968 - accuracy: 0.3539 - val_loss: 1.6272 - val_accuracy: 0.3406\n",
      "Epoch 13/60\n",
      "25920/25920 [==============================] - 19s 725us/sample - loss: 1.5489 - accuracy: 0.3729 - val_loss: 1.5716 - val_accuracy: 0.3521\n",
      "Epoch 14/60\n",
      "25920/25920 [==============================] - 19s 715us/sample - loss: 1.5003 - accuracy: 0.3937 - val_loss: 1.4490 - val_accuracy: 0.4253\n",
      "Epoch 15/60\n",
      "25920/25920 [==============================] - 19s 724us/sample - loss: 1.4607 - accuracy: 0.4086 - val_loss: 1.4341 - val_accuracy: 0.4299\n",
      "Epoch 16/60\n",
      "25920/25920 [==============================] - 19s 742us/sample - loss: 1.4146 - accuracy: 0.4309 - val_loss: 1.4896 - val_accuracy: 0.4146\n",
      "Epoch 17/60\n",
      "25920/25920 [==============================] - 19s 734us/sample - loss: 1.3780 - accuracy: 0.4475 - val_loss: 1.3265 - val_accuracy: 0.4771\n",
      "Epoch 18/60\n",
      "25920/25920 [==============================] - 19s 723us/sample - loss: 1.3466 - accuracy: 0.4619 - val_loss: 1.3098 - val_accuracy: 0.5014\n",
      "Epoch 19/60\n",
      "25920/25920 [==============================] - 19s 725us/sample - loss: 1.2895 - accuracy: 0.4893 - val_loss: 1.2476 - val_accuracy: 0.5007\n",
      "Epoch 20/60\n",
      "25920/25920 [==============================] - 19s 723us/sample - loss: 2.9423 - accuracy: 0.4987 - val_loss: 1.3092 - val_accuracy: 0.4903\n",
      "Epoch 21/60\n",
      "25920/25920 [==============================] - 19s 724us/sample - loss: 1.2345 - accuracy: 0.5187 - val_loss: 1.0584 - val_accuracy: 0.5837\n",
      "Epoch 22/60\n",
      "25920/25920 [==============================] - 19s 723us/sample - loss: 1.0836 - accuracy: 0.5728 - val_loss: 1.0384 - val_accuracy: 0.5906\n",
      "Epoch 23/60\n",
      "25920/25920 [==============================] - 19s 725us/sample - loss: 1.0592 - accuracy: 0.5829 - val_loss: 1.0119 - val_accuracy: 0.6052\n",
      "Epoch 24/60\n",
      "25920/25920 [==============================] - 19s 725us/sample - loss: 1.0401 - accuracy: 0.5927 - val_loss: 0.9874 - val_accuracy: 0.6160\n",
      "Epoch 25/60\n",
      "25920/25920 [==============================] - 19s 724us/sample - loss: 1.0252 - accuracy: 0.5995 - val_loss: 0.9910 - val_accuracy: 0.6160\n",
      "Epoch 26/60\n",
      "25920/25920 [==============================] - 19s 727us/sample - loss: 1.0130 - accuracy: 0.6086 - val_loss: 0.9798 - val_accuracy: 0.6236\n",
      "Epoch 27/60\n",
      "25920/25920 [==============================] - 19s 725us/sample - loss: 1.0000 - accuracy: 0.6086 - val_loss: 0.9599 - val_accuracy: 0.6184\n",
      "Epoch 28/60\n",
      "25920/25920 [==============================] - 19s 737us/sample - loss: 0.9927 - accuracy: 0.6162 - val_loss: 0.9671 - val_accuracy: 0.6212\n",
      "Epoch 29/60\n",
      "25920/25920 [==============================] - 19s 733us/sample - loss: 0.9748 - accuracy: 0.6194 - val_loss: 0.9248 - val_accuracy: 0.6396\n",
      "Epoch 30/60\n",
      "25920/25920 [==============================] - 19s 730us/sample - loss: 0.9578 - accuracy: 0.6274 - val_loss: 0.9347 - val_accuracy: 0.6424\n",
      "Epoch 31/60\n",
      "25920/25920 [==============================] - 19s 728us/sample - loss: 0.9522 - accuracy: 0.6334 - val_loss: 0.9182 - val_accuracy: 0.6462\n",
      "Epoch 32/60\n",
      "25920/25920 [==============================] - 19s 728us/sample - loss: 0.9367 - accuracy: 0.6385 - val_loss: 0.9366 - val_accuracy: 0.6444\n",
      "Epoch 33/60\n",
      "25920/25920 [==============================] - 19s 725us/sample - loss: 0.9302 - accuracy: 0.6449 - val_loss: 0.9444 - val_accuracy: 0.6455\n",
      "Epoch 34/60\n",
      "25920/25920 [==============================] - 19s 728us/sample - loss: 0.9222 - accuracy: 0.6468 - val_loss: 0.9026 - val_accuracy: 0.6576\n",
      "Epoch 35/60\n",
      "25920/25920 [==============================] - 19s 728us/sample - loss: 0.9053 - accuracy: 0.6515 - val_loss: 0.9188 - val_accuracy: 0.6583\n",
      "Epoch 36/60\n",
      "25920/25920 [==============================] - 19s 728us/sample - loss: 0.8928 - accuracy: 0.6580 - val_loss: 0.9398 - val_accuracy: 0.6448\n",
      "Epoch 37/60\n",
      "25920/25920 [==============================] - 19s 727us/sample - loss: 0.8913 - accuracy: 0.6598 - val_loss: 0.9454 - val_accuracy: 0.6521\n",
      "Epoch 38/60\n",
      "25920/25920 [==============================] - 19s 731us/sample - loss: 0.8737 - accuracy: 0.6676 - val_loss: 0.8733 - val_accuracy: 0.6708\n",
      "Epoch 39/60\n",
      "25920/25920 [==============================] - 19s 729us/sample - loss: 0.8706 - accuracy: 0.6706 - val_loss: 0.8554 - val_accuracy: 0.6823\n",
      "Epoch 40/60\n",
      "25920/25920 [==============================] - 19s 731us/sample - loss: 0.8705 - accuracy: 0.6704 - val_loss: 0.8839 - val_accuracy: 0.6694\n",
      "Epoch 41/60\n",
      "25920/25920 [==============================] - 19s 731us/sample - loss: 0.8129 - accuracy: 0.6943 - val_loss: 0.8336 - val_accuracy: 0.6851\n",
      "Epoch 42/60\n",
      "25920/25920 [==============================] - 19s 732us/sample - loss: 0.7947 - accuracy: 0.7005 - val_loss: 0.8343 - val_accuracy: 0.6913\n",
      "Epoch 43/60\n",
      "25920/25920 [==============================] - 19s 730us/sample - loss: 0.7938 - accuracy: 0.7017 - val_loss: 0.8417 - val_accuracy: 0.6819\n",
      "Epoch 44/60\n",
      "25920/25920 [==============================] - 19s 731us/sample - loss: 0.7924 - accuracy: 0.7054 - val_loss: 0.8232 - val_accuracy: 0.6906\n",
      "Epoch 45/60\n",
      "25920/25920 [==============================] - 19s 734us/sample - loss: 0.7932 - accuracy: 0.7036 - val_loss: 0.8285 - val_accuracy: 0.6938\n",
      "Epoch 46/60\n",
      "25920/25920 [==============================] - 19s 728us/sample - loss: 0.7889 - accuracy: 0.7026 - val_loss: 0.8383 - val_accuracy: 0.6917\n",
      "Epoch 47/60\n",
      "25920/25920 [==============================] - 19s 730us/sample - loss: 0.7882 - accuracy: 0.7032 - val_loss: 0.8305 - val_accuracy: 0.6962\n",
      "Epoch 48/60\n",
      "25920/25920 [==============================] - 19s 733us/sample - loss: 0.7830 - accuracy: 0.7071 - val_loss: 0.8255 - val_accuracy: 0.6955\n",
      "Epoch 49/60\n",
      "25920/25920 [==============================] - 19s 733us/sample - loss: 0.7789 - accuracy: 0.7104 - val_loss: 0.8123 - val_accuracy: 0.6972\n",
      "Epoch 50/60\n",
      "25920/25920 [==============================] - 19s 732us/sample - loss: 0.7843 - accuracy: 0.7076 - val_loss: 0.8187 - val_accuracy: 0.7042\n",
      "Epoch 51/60\n",
      "25920/25920 [==============================] - 19s 731us/sample - loss: 0.7783 - accuracy: 0.7082 - val_loss: 0.8091 - val_accuracy: 0.6983\n",
      "Epoch 52/60\n",
      "25920/25920 [==============================] - 19s 731us/sample - loss: 0.7791 - accuracy: 0.7125 - val_loss: 0.8155 - val_accuracy: 0.7063\n",
      "Epoch 53/60\n",
      "25920/25920 [==============================] - 19s 733us/sample - loss: 0.7758 - accuracy: 0.7101 - val_loss: 0.8179 - val_accuracy: 0.7035\n",
      "Epoch 54/60\n",
      "25920/25920 [==============================] - 19s 718us/sample - loss: 0.7751 - accuracy: 0.7113 - val_loss: 0.8077 - val_accuracy: 0.7014\n",
      "Epoch 55/60\n",
      "25920/25920 [==============================] - 19s 720us/sample - loss: 0.7743 - accuracy: 0.7129 - val_loss: 0.8240 - val_accuracy: 0.6962\n",
      "Epoch 56/60\n",
      "25920/25920 [==============================] - 19s 721us/sample - loss: 0.7664 - accuracy: 0.7171 - val_loss: 0.8155 - val_accuracy: 0.6941\n",
      "Epoch 57/60\n",
      "25920/25920 [==============================] - 19s 721us/sample - loss: 0.7677 - accuracy: 0.7135 - val_loss: 0.8112 - val_accuracy: 0.7045\n",
      "Epoch 58/60\n",
      "25920/25920 [==============================] - 19s 720us/sample - loss: 0.7640 - accuracy: 0.7156 - val_loss: 0.8155 - val_accuracy: 0.6997\n",
      "Epoch 59/60\n",
      "25920/25920 [==============================] - 19s 721us/sample - loss: 0.7616 - accuracy: 0.7178 - val_loss: 0.8070 - val_accuracy: 0.6990\n",
      "Epoch 60/60\n",
      "25920/25920 [==============================] - 19s 720us/sample - loss: 0.7676 - accuracy: 0.7137 - val_loss: 0.8153 - val_accuracy: 0.7045\n"
     ]
    }
   ],
   "source": [
    "history = model.fit(x, y, batch_size=128, epochs=60, validation_split=0.1,\n",
    "                    callbacks=[lr_scheduler])"
   ]
  },
  {
   "cell_type": "code",
   "execution_count": 9,
   "metadata": {},
   "outputs": [
    {
     "name": "stdout",
     "output_type": "stream",
     "text": [
      "dict_keys(['val_loss', 'loss', 'val_accuracy', 'accuracy', 'lr'])\n"
     ]
    }
   ],
   "source": [
    "model.save_weights(weights_file)\n",
    "model.save(model_file)\n",
    "print(history.history.keys())"
   ]
  },
  {
   "cell_type": "code",
   "execution_count": 10,
   "metadata": {},
   "outputs": [
    {
     "data": {
      "image/png": "[encoded data removed]",
      "text/plain": [
       "<Figure size 432x288 with 1 Axes>"
      ]
     },
     "metadata": {
      "needs_background": "light"
     },
     "output_type": "display_data"
    },
    {
     "data": {
      "image/png": "[encoded data removed]",
      "text/plain": [
       "<Figure size 432x288 with 1 Axes>"
      ]
     },
     "metadata": {
      "needs_background": "light"
     },
     "output_type": "display_data"
    }
   ],
   "source": [
    "# summarize history for accuracy\n",
    "plt.plot(history.history['accuracy'])\n",
    "plt.plot(history.history['val_accuracy'])\n",
    "plt.title('Model accuracy')\n",
    "plt.ylabel('Accuracy')\n",
    "plt.xlabel('Epoch')\n",
    "plt.legend(['Train', 'Test'], loc='upper left')\n",
    "plt.savefig('./figures/lstm_acc.png')\n",
    "plt.show()\n",
    "\n",
    "# summarize history for loss\n",
    "plt.plot(history.history['loss'])\n",
    "plt.plot(history.history['val_loss'])\n",
    "plt.title('Model loss')\n",
    "plt.ylabel('Loss')\n",
    "plt.xlabel('Epoch')\n",
    "plt.legend(['Train', 'Test'], loc='upper left')\n",
    "plt.savefig('./figures/lstm_loss.png')\n",
    "plt.show()"
   ]
  },
  {
   "cell_type": "code",
   "execution_count": null,
   "metadata": {},
   "outputs": [],
   "source": []
  }
 ],
 "metadata": {
  "kernelspec": {
   "display_name": "Python 3",
   "language": "python",
   "name": "python3"
  },
  "language_info": {
   "codemirror_mode": {
    "name": "ipython",
    "version": 3
   },
   "file_extension": ".py",
   "mimetype": "text/x-python",
   "name": "python",
   "nbconvert_exporter": "python",
   "pygments_lexer": "ipython3",
   "version": "3.5.2"
  }
 },
 "nbformat": 4,
 "nbformat_minor": 2
}
