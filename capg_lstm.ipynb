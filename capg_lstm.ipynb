{
 "cells": [
  {
   "cell_type": "markdown",
   "metadata": {},
   "source": [
    "### TODO\n",
    "1. 模型过拟合，加入batchNormalization和dropout\n",
    "2. 增加LSTM堆叠，提高模型accuracy\n",
    "3. 按照LSTM的代码格式，修改两个CNN的格式重新训练，训练完保存模型"
   ]
  },
  {
   "cell_type": "code",
   "execution_count": 1,
   "metadata": {},
   "outputs": [],
   "source": [
    "import numpy as np\n",
    "import os\n",
    "import matplotlib.pyplot as plt\n",
    "\n",
    "import tensorflow as tf\n",
    "from tensorflow.keras.models import Sequential\n",
    "from tensorflow.keras.layers import LSTM, Dense, Dropout\n",
    "from tensorflow.keras.optimizers import SGD\n",
    "from tensorflow.keras import utils, regularizers\n",
    "from tensorflow.keras.callbacks import TensorBoard, LearningRateScheduler\n",
    "from tensorflow.keras import backend as K\n",
    "\n",
    "from utils.data import load_capg_data, CapgDBName, LoadMode\n",
    "\n",
    "from tensorflow.compat.v1 import ConfigProto\n",
    "from tensorflow.compat.v1 import InteractiveSession\n",
    "config = ConfigProto()\n",
    "config.gpu_options.allow_growth = True\n",
    "session = InteractiveSession(config=config)\n",
    "K.set_session(session)  # set this TensorFlow session as the default session for Keras"
   ]
  },
  {
   "cell_type": "code",
   "execution_count": 2,
   "metadata": {},
   "outputs": [],
   "source": [
    "# set const values\n",
    "weights_file = './models/capg_lstm_weights.h5'\n",
    "model_file = './models/capg_lstm_model.h5'\n",
    "window_len = 50\n",
    "BATCH_SIZE = 128\n",
    "test_splite = 0.1\n",
    "EPOCHS = 120"
   ]
  },
  {
   "cell_type": "code",
   "execution_count": 3,
   "metadata": {},
   "outputs": [
    {
     "name": "stdout",
     "output_type": "stream",
     "text": [
      "train set\n",
      "(26069, 50, 128)\n",
      "(26069, 8)\n",
      "test set\n",
      "(2880, 50, 128)\n",
      "(2880, 8)\n"
     ]
    }
   ],
   "source": [
    "# load capg dba data\n",
    "x_train, y_train, category = load_capg_data(CapgDBName.dba, LoadMode.sequence)\n",
    "seg_length = int(x_train.shape[1] / window_len)\n",
    "\n",
    "x_train = x_train.reshape(x_train.shape[0]*seg_length, window_len, x_train.shape[2])\n",
    "y_train = y_train.reshape(y_train.shape[0], 1) * np.ones((1, seg_length))\n",
    "y_train = y_train.flatten()\n",
    "y_train = utils.to_categorical(y_train - 1, category)\n",
    "\n",
    "index = np.random.choice(x_train.shape[0], int(x_train.shape[0]*test_splite))\n",
    "x_test = x_train[index]\n",
    "y_test = y_train[index]\n",
    "\n",
    "x_train = np.delete(x_train, index, axis=0)\n",
    "y_train = np.delete(y_train, index, axis=0)\n",
    "\n",
    "print('train set')\n",
    "print(x_train.shape)\n",
    "print(y_train.shape)\n",
    "print('test set')\n",
    "print(x_test.shape)\n",
    "print(y_test.shape)"
   ]
  },
  {
   "cell_type": "code",
   "execution_count": 4,
   "metadata": {},
   "outputs": [
    {
     "name": "stdout",
     "output_type": "stream",
     "text": [
      "WARNING:tensorflow:From /home/teng/anaconda3/envs/py36/lib/python3.6/site-packages/tensorflow/python/ops/resource_variable_ops.py:435: colocate_with (from tensorflow.python.framework.ops) is deprecated and will be removed in a future version.\n",
      "Instructions for updating:\n",
      "Colocations handled automatically by placer.\n",
      "WARNING:tensorflow:From /home/teng/anaconda3/envs/py36/lib/python3.6/site-packages/tensorflow/python/keras/backend.py:4010: calling dropout (from tensorflow.python.ops.nn_ops) with keep_prob is deprecated and will be removed in a future version.\n",
      "Instructions for updating:\n",
      "Please use `rate` instead of `keep_prob`. Rate should be set to `rate = 1 - keep_prob`.\n",
      "train a new model\n"
     ]
    }
   ],
   "source": [
    "model = Sequential()\n",
    "model.add(LSTM(256, activation='relu', input_shape=(window_len, 128), dropout=0.2,\n",
    "               activity_regularizer=regularizers.l2(l=0.01), name='lstm_1'))\n",
    "# model.add(LSTM(256, activation='relu', return_sequences=True, name='lstm_2'))  # returns a sequence of vectors of dimension 32\n",
    "# model.add(LSTM(256, activation='relu', name='lstm_3'))  # return a single vector of dimension 32\n",
    "model.add(Dense(8, activation='softmax', name='output'))\n",
    "\n",
    "if os.path.exists(model_file):\n",
    "    print('load weights from a trained model')\n",
    "    model.load_weights(model_file, by_name=True)\n",
    "else:\n",
    "    print('train a new model')"
   ]
  },
  {
   "cell_type": "code",
   "execution_count": 5,
   "metadata": {},
   "outputs": [
    {
     "name": "stdout",
     "output_type": "stream",
     "text": [
      "_________________________________________________________________\n",
      "Layer (type)                 Output Shape              Param #   \n",
      "=================================================================\n",
      "lstm_1 (LSTM)                (None, 256)               394240    \n",
      "_________________________________________________________________\n",
      "output (Dense)               (None, 8)                 2056      \n",
      "=================================================================\n",
      "Total params: 396,296\n",
      "Trainable params: 396,296\n",
      "Non-trainable params: 0\n",
      "_________________________________________________________________\n"
     ]
    }
   ],
   "source": [
    "sgd = SGD(clipnorm=1, clipvalue=0.5, momentum=0.9)\n",
    "model.compile(optimizer=sgd, loss='categorical_crossentropy', metrics=['accuracy'])\n",
    "model.summary()"
   ]
  },
  {
   "cell_type": "code",
   "execution_count": 6,
   "metadata": {},
   "outputs": [],
   "source": [
    "# tb_callback = TensorBoard(log_dir='./logs/lstm/',\n",
    "#                           histogram_freq=1,\n",
    "#                           batch_size=32,\n",
    "#                           write_grads=True,\n",
    "#                           update_freq='batch')"
   ]
  },
  {
   "cell_type": "code",
   "execution_count": 7,
   "metadata": {},
   "outputs": [],
   "source": [
    "def learning_rate_tuner(epoch):\n",
    "    lr = 0.1\n",
    "    if 40 <= epoch < 80:\n",
    "        lr = 0.01\n",
    "    elif epoch >= 80:\n",
    "        lr = 0.001\n",
    "    return lr\n",
    "\n",
    "lr_scheduler = LearningRateScheduler(learning_rate_tuner)"
   ]
  },
  {
   "cell_type": "code",
   "execution_count": 8,
   "metadata": {
    "scrolled": false
   },
   "outputs": [
    {
     "name": "stdout",
     "output_type": "stream",
     "text": [
      "Train on 26069 samples, validate on 2880 samples\n",
      "WARNING:tensorflow:From /home/teng/anaconda3/envs/py36/lib/python3.6/site-packages/tensorflow/python/ops/math_ops.py:3066: to_int32 (from tensorflow.python.ops.math_ops) is deprecated and will be removed in a future version.\n",
      "Instructions for updating:\n",
      "Use tf.cast instead.\n",
      "Epoch 1/120\n",
      "26069/26069 [==============================] - 8s 311us/sample - loss: 2.0700 - acc: 0.1371 - val_loss: 2.0615 - val_acc: 0.1528\n",
      "Epoch 2/120\n",
      "26069/26069 [==============================] - 8s 303us/sample - loss: 2.0570 - acc: 0.1516 - val_loss: 2.0483 - val_acc: 0.1649\n",
      "Epoch 3/120\n",
      "26069/26069 [==============================] - 8s 302us/sample - loss: 2.0395 - acc: 0.1649 - val_loss: 2.0756 - val_acc: 0.1365\n",
      "Epoch 4/120\n",
      "26069/26069 [==============================] - 8s 304us/sample - loss: 2.0265 - acc: 0.1802 - val_loss: 1.9674 - val_acc: 0.2083\n",
      "Epoch 5/120\n",
      "26069/26069 [==============================] - 8s 304us/sample - loss: 2.0201 - acc: 0.1896 - val_loss: 1.9461 - val_acc: 0.2139\n",
      "Epoch 6/120\n",
      "26069/26069 [==============================] - 8s 305us/sample - loss: 1.9318 - acc: 0.2086 - val_loss: 1.9146 - val_acc: 0.2219\n",
      "Epoch 7/120\n",
      "26069/26069 [==============================] - 8s 306us/sample - loss: 1.8818 - acc: 0.2279 - val_loss: 1.8428 - val_acc: 0.2344\n",
      "Epoch 8/120\n",
      "26069/26069 [==============================] - 8s 306us/sample - loss: 1.8490 - acc: 0.2434 - val_loss: 1.8155 - val_acc: 0.2604\n",
      "Epoch 9/120\n",
      "26069/26069 [==============================] - 8s 306us/sample - loss: 1.7962 - acc: 0.2668 - val_loss: 1.7587 - val_acc: 0.2885\n",
      "Epoch 10/120\n",
      "26069/26069 [==============================] - 8s 306us/sample - loss: 1.7383 - acc: 0.2984 - val_loss: 1.6448 - val_acc: 0.3406\n",
      "Epoch 11/120\n",
      "26069/26069 [==============================] - 8s 307us/sample - loss: 1.6655 - acc: 0.3249 - val_loss: 1.6892 - val_acc: 0.3174\n",
      "Epoch 12/120\n",
      "26069/26069 [==============================] - 8s 307us/sample - loss: 1.5762 - acc: 0.3643 - val_loss: 1.5096 - val_acc: 0.3972\n",
      "Epoch 13/120\n",
      "26069/26069 [==============================] - 8s 307us/sample - loss: 1.5249 - acc: 0.3899 - val_loss: 1.4686 - val_acc: 0.4104\n",
      "Epoch 14/120\n",
      "26069/26069 [==============================] - 8s 308us/sample - loss: 1.4550 - acc: 0.4192 - val_loss: 1.3958 - val_acc: 0.4601\n",
      "Epoch 15/120\n",
      "26069/26069 [==============================] - 8s 308us/sample - loss: 1.3866 - acc: 0.4511 - val_loss: 1.2696 - val_acc: 0.5108\n",
      "Epoch 16/120\n",
      "26069/26069 [==============================] - 8s 307us/sample - loss: 1.3365 - acc: 0.4679 - val_loss: 1.3249 - val_acc: 0.4906\n",
      "Epoch 17/120\n",
      "26069/26069 [==============================] - 8s 309us/sample - loss: 1.2944 - acc: 0.4929 - val_loss: 1.2307 - val_acc: 0.5170\n",
      "Epoch 18/120\n",
      "26069/26069 [==============================] - 8s 309us/sample - loss: 1.2577 - acc: 0.5059 - val_loss: 1.2153 - val_acc: 0.5115\n",
      "Epoch 19/120\n",
      "26069/26069 [==============================] - 8s 305us/sample - loss: 1.2139 - acc: 0.5229 - val_loss: 1.2201 - val_acc: 0.5149\n",
      "Epoch 20/120\n",
      "26069/26069 [==============================] - 8s 306us/sample - loss: 1.1716 - acc: 0.5452 - val_loss: 1.1753 - val_acc: 0.5476\n",
      "Epoch 21/120\n",
      "26069/26069 [==============================] - 8s 306us/sample - loss: 1.1366 - acc: 0.5557 - val_loss: 1.0230 - val_acc: 0.6073\n",
      "Epoch 22/120\n",
      "26069/26069 [==============================] - 8s 306us/sample - loss: 1.1136 - acc: 0.5654 - val_loss: 1.0439 - val_acc: 0.6010\n",
      "Epoch 23/120\n",
      "26069/26069 [==============================] - 8s 307us/sample - loss: 1.0902 - acc: 0.5776 - val_loss: 1.0034 - val_acc: 0.6187\n",
      "Epoch 24/120\n",
      "26069/26069 [==============================] - 8s 307us/sample - loss: 1.0418 - acc: 0.5982 - val_loss: 0.9923 - val_acc: 0.6149\n",
      "Epoch 25/120\n",
      "26069/26069 [==============================] - 8s 309us/sample - loss: 1.0220 - acc: 0.6031 - val_loss: 0.9257 - val_acc: 0.6413\n",
      "Epoch 26/120\n",
      "26069/26069 [==============================] - 8s 308us/sample - loss: 0.9903 - acc: 0.6190 - val_loss: 0.9534 - val_acc: 0.6309\n",
      "Epoch 27/120\n",
      "26069/26069 [==============================] - 8s 308us/sample - loss: 0.9631 - acc: 0.6294 - val_loss: 0.9778 - val_acc: 0.6191\n",
      "Epoch 28/120\n",
      "26069/26069 [==============================] - 8s 308us/sample - loss: 51610017.2485 - acc: 0.5759 - val_loss: 0.9588 - val_acc: 0.6417\n",
      "Epoch 29/120\n",
      "26069/26069 [==============================] - 8s 308us/sample - loss: 1.3118 - acc: 0.5312 - val_loss: 0.9439 - val_acc: 0.6510\n",
      "Epoch 30/120\n",
      "26069/26069 [==============================] - 8s 308us/sample - loss: 1.0102 - acc: 0.6108 - val_loss: 0.9169 - val_acc: 0.6448\n",
      "Epoch 31/120\n",
      "26069/26069 [==============================] - 8s 308us/sample - loss: 1.0810 - acc: 0.5886 - val_loss: 0.8763 - val_acc: 0.6774\n",
      "Epoch 32/120\n",
      "26069/26069 [==============================] - 8s 309us/sample - loss: 3.2949 - acc: 0.6358 - val_loss: 0.8401 - val_acc: 0.6861\n",
      "Epoch 33/120\n",
      "26069/26069 [==============================] - 8s 308us/sample - loss: 0.9116 - acc: 0.6521 - val_loss: 0.8882 - val_acc: 0.6715\n",
      "Epoch 34/120\n",
      "26069/26069 [==============================] - 8s 311us/sample - loss: 0.8827 - acc: 0.6669 - val_loss: 0.8548 - val_acc: 0.6819\n",
      "Epoch 35/120\n",
      "26069/26069 [==============================] - 8s 308us/sample - loss: 0.8460 - acc: 0.6779 - val_loss: 0.7899 - val_acc: 0.7000\n",
      "Epoch 36/120\n",
      "26069/26069 [==============================] - 8s 308us/sample - loss: 0.8368 - acc: 0.6824 - val_loss: 0.8708 - val_acc: 0.6854\n",
      "Epoch 37/120\n",
      "26069/26069 [==============================] - 8s 307us/sample - loss: 1.0693 - acc: 0.6031 - val_loss: 0.8737 - val_acc: 0.6691\n",
      "Epoch 38/120\n",
      "26069/26069 [==============================] - 8s 309us/sample - loss: 0.8662 - acc: 0.6741 - val_loss: 0.8439 - val_acc: 0.6774\n",
      "Epoch 39/120\n",
      "26069/26069 [==============================] - 8s 308us/sample - loss: 0.8113 - acc: 0.6986 - val_loss: 0.7188 - val_acc: 0.7333\n",
      "Epoch 40/120\n",
      "26069/26069 [==============================] - 8s 308us/sample - loss: 0.7897 - acc: 0.7013 - val_loss: 0.7366 - val_acc: 0.7299\n",
      "Epoch 41/120\n",
      "26069/26069 [==============================] - 8s 310us/sample - loss: 0.7019 - acc: 0.7441 - val_loss: 0.6141 - val_acc: 0.7729\n",
      "Epoch 42/120\n",
      "26069/26069 [==============================] - 8s 309us/sample - loss: 0.6139 - acc: 0.7787 - val_loss: 0.5884 - val_acc: 0.7840\n",
      "Epoch 43/120\n",
      "26069/26069 [==============================] - 8s 308us/sample - loss: 0.5931 - acc: 0.7865 - val_loss: 0.5761 - val_acc: 0.7955\n",
      "Epoch 44/120\n",
      "26069/26069 [==============================] - 8s 310us/sample - loss: 0.5842 - acc: 0.7871 - val_loss: 0.5798 - val_acc: 0.7868\n",
      "Epoch 45/120\n",
      "26069/26069 [==============================] - 8s 308us/sample - loss: 0.5779 - acc: 0.7907 - val_loss: 0.5595 - val_acc: 0.7931\n",
      "Epoch 46/120\n",
      "26069/26069 [==============================] - 8s 309us/sample - loss: 0.5691 - acc: 0.7928 - val_loss: 0.5988 - val_acc: 0.7872\n",
      "Epoch 47/120\n",
      "26069/26069 [==============================] - 8s 309us/sample - loss: 0.5620 - acc: 0.7980 - val_loss: 0.5568 - val_acc: 0.8010\n",
      "Epoch 48/120\n",
      "26069/26069 [==============================] - 8s 308us/sample - loss: 0.5589 - acc: 0.7992 - val_loss: 0.5688 - val_acc: 0.7972\n",
      "Epoch 49/120\n",
      "26069/26069 [==============================] - 8s 309us/sample - loss: 0.5531 - acc: 0.7991 - val_loss: 0.5463 - val_acc: 0.8052\n",
      "Epoch 50/120\n",
      "26069/26069 [==============================] - 8s 308us/sample - loss: 0.5420 - acc: 0.8028 - val_loss: 0.5410 - val_acc: 0.8049\n",
      "Epoch 51/120\n",
      "26069/26069 [==============================] - 8s 308us/sample - loss: 0.5349 - acc: 0.8079 - val_loss: 0.5353 - val_acc: 0.8097\n",
      "Epoch 52/120\n",
      "26069/26069 [==============================] - 8s 309us/sample - loss: 0.5235 - acc: 0.8149 - val_loss: 0.5226 - val_acc: 0.8170\n",
      "Epoch 53/120\n",
      "26069/26069 [==============================] - 8s 309us/sample - loss: 0.5296 - acc: 0.8125 - val_loss: 0.5276 - val_acc: 0.8170\n",
      "Epoch 54/120\n",
      "26069/26069 [==============================] - 8s 308us/sample - loss: 0.5248 - acc: 0.8146 - val_loss: 0.5361 - val_acc: 0.8125\n",
      "Epoch 55/120\n",
      "26069/26069 [==============================] - 8s 309us/sample - loss: 0.5195 - acc: 0.8120 - val_loss: 0.5195 - val_acc: 0.8153\n",
      "Epoch 56/120\n"
     ]
    },
    {
     "name": "stdout",
     "output_type": "stream",
     "text": [
      "26069/26069 [==============================] - 8s 302us/sample - loss: 0.5187 - acc: 0.8126 - val_loss: 0.5245 - val_acc: 0.8118\n",
      "Epoch 57/120\n",
      "26069/26069 [==============================] - 8s 301us/sample - loss: 0.5143 - acc: 0.8189 - val_loss: 0.5259 - val_acc: 0.8115\n",
      "Epoch 58/120\n",
      "26069/26069 [==============================] - 8s 302us/sample - loss: 0.5062 - acc: 0.8180 - val_loss: 0.5088 - val_acc: 0.8184\n",
      "Epoch 59/120\n",
      "26069/26069 [==============================] - 8s 303us/sample - loss: 0.5016 - acc: 0.8226 - val_loss: 0.5130 - val_acc: 0.8198\n",
      "Epoch 60/120\n",
      "26069/26069 [==============================] - 8s 304us/sample - loss: 0.5008 - acc: 0.8224 - val_loss: 0.5024 - val_acc: 0.8267\n",
      "Epoch 61/120\n",
      "26069/26069 [==============================] - 8s 302us/sample - loss: 0.4903 - acc: 0.8265 - val_loss: 0.5003 - val_acc: 0.8274\n",
      "Epoch 62/120\n",
      "26069/26069 [==============================] - 8s 304us/sample - loss: 0.4927 - acc: 0.8267 - val_loss: 0.5210 - val_acc: 0.8118\n",
      "Epoch 63/120\n",
      "26069/26069 [==============================] - 8s 303us/sample - loss: 0.4884 - acc: 0.8249 - val_loss: 0.5133 - val_acc: 0.8111\n",
      "Epoch 64/120\n",
      "26069/26069 [==============================] - 8s 302us/sample - loss: 0.4828 - acc: 0.8305 - val_loss: 0.5305 - val_acc: 0.8160\n",
      "Epoch 65/120\n",
      "26069/26069 [==============================] - 8s 302us/sample - loss: 0.4747 - acc: 0.8335 - val_loss: 0.4882 - val_acc: 0.8313\n",
      "Epoch 66/120\n",
      "26069/26069 [==============================] - 8s 303us/sample - loss: 0.4725 - acc: 0.8349 - val_loss: 0.4914 - val_acc: 0.8271\n",
      "Epoch 67/120\n",
      "26069/26069 [==============================] - 8s 302us/sample - loss: 0.4750 - acc: 0.8323 - val_loss: 0.5068 - val_acc: 0.8257\n",
      "Epoch 68/120\n",
      "26069/26069 [==============================] - 8s 303us/sample - loss: 0.4687 - acc: 0.8343 - val_loss: 0.4842 - val_acc: 0.8306\n",
      "Epoch 69/120\n",
      "26069/26069 [==============================] - 8s 303us/sample - loss: 0.4672 - acc: 0.8360 - val_loss: 0.4873 - val_acc: 0.8243\n",
      "Epoch 70/120\n",
      "26069/26069 [==============================] - 8s 303us/sample - loss: 0.4606 - acc: 0.8387 - val_loss: 0.4906 - val_acc: 0.8292\n",
      "Epoch 71/120\n",
      "26069/26069 [==============================] - 8s 303us/sample - loss: 0.4602 - acc: 0.8381 - val_loss: 0.4679 - val_acc: 0.8389\n",
      "Epoch 72/120\n",
      "26069/26069 [==============================] - 8s 303us/sample - loss: 0.4628 - acc: 0.8384 - val_loss: 0.4900 - val_acc: 0.8326\n",
      "Epoch 73/120\n",
      "26069/26069 [==============================] - 8s 308us/sample - loss: 0.4581 - acc: 0.8404 - val_loss: 0.4785 - val_acc: 0.8288\n",
      "Epoch 74/120\n",
      "26069/26069 [==============================] - 8s 305us/sample - loss: 0.4493 - acc: 0.8446 - val_loss: 0.4923 - val_acc: 0.8340\n",
      "Epoch 75/120\n",
      "26069/26069 [==============================] - 8s 306us/sample - loss: 0.4413 - acc: 0.8464 - val_loss: 0.5015 - val_acc: 0.8226\n",
      "Epoch 76/120\n",
      "26069/26069 [==============================] - 8s 306us/sample - loss: 0.4461 - acc: 0.8453 - val_loss: 0.4610 - val_acc: 0.8434\n",
      "Epoch 77/120\n",
      "26069/26069 [==============================] - 8s 305us/sample - loss: 0.4463 - acc: 0.8446 - val_loss: 0.4767 - val_acc: 0.8368\n",
      "Epoch 78/120\n",
      "26069/26069 [==============================] - 8s 306us/sample - loss: 0.4350 - acc: 0.8472 - val_loss: 0.5072 - val_acc: 0.8253\n",
      "Epoch 79/120\n",
      "26069/26069 [==============================] - 8s 306us/sample - loss: 0.4365 - acc: 0.8466 - val_loss: 0.4626 - val_acc: 0.8438\n",
      "Epoch 80/120\n",
      "26069/26069 [==============================] - 8s 308us/sample - loss: 0.4377 - acc: 0.8485 - val_loss: 0.4630 - val_acc: 0.8375\n",
      "Epoch 81/120\n",
      "26069/26069 [==============================] - 8s 307us/sample - loss: 0.4073 - acc: 0.8602 - val_loss: 0.4405 - val_acc: 0.8472\n",
      "Epoch 82/120\n",
      "26069/26069 [==============================] - 8s 308us/sample - loss: 0.3931 - acc: 0.8686 - val_loss: 0.4354 - val_acc: 0.8559\n",
      "Epoch 83/120\n",
      "26069/26069 [==============================] - 8s 308us/sample - loss: 0.3882 - acc: 0.8670 - val_loss: 0.4324 - val_acc: 0.8569\n",
      "Epoch 84/120\n",
      "26069/26069 [==============================] - 8s 309us/sample - loss: 0.3915 - acc: 0.8669 - val_loss: 0.4356 - val_acc: 0.8517\n",
      "Epoch 85/120\n",
      "26069/26069 [==============================] - 8s 310us/sample - loss: 0.3882 - acc: 0.8685 - val_loss: 0.4327 - val_acc: 0.8576\n",
      "Epoch 86/120\n",
      "26069/26069 [==============================] - 8s 308us/sample - loss: 0.3911 - acc: 0.8678 - val_loss: 0.4311 - val_acc: 0.8562\n",
      "Epoch 87/120\n",
      "26069/26069 [==============================] - 8s 309us/sample - loss: 0.3878 - acc: 0.8673 - val_loss: 0.4304 - val_acc: 0.8552\n",
      "Epoch 88/120\n",
      "26069/26069 [==============================] - 8s 309us/sample - loss: 0.3873 - acc: 0.8704 - val_loss: 0.4312 - val_acc: 0.8535\n",
      "Epoch 89/120\n",
      "26069/26069 [==============================] - 8s 309us/sample - loss: 0.3854 - acc: 0.8708 - val_loss: 0.4329 - val_acc: 0.8524\n",
      "Epoch 90/120\n",
      "26069/26069 [==============================] - 8s 307us/sample - loss: 0.3879 - acc: 0.8682 - val_loss: 0.4299 - val_acc: 0.8517\n",
      "Epoch 91/120\n",
      "26069/26069 [==============================] - 8s 308us/sample - loss: 0.3864 - acc: 0.8698 - val_loss: 0.4272 - val_acc: 0.8552\n",
      "Epoch 92/120\n",
      "26069/26069 [==============================] - 8s 310us/sample - loss: 0.3841 - acc: 0.8702 - val_loss: 0.4300 - val_acc: 0.8500\n",
      "Epoch 93/120\n",
      "26069/26069 [==============================] - 8s 309us/sample - loss: 0.3818 - acc: 0.8718 - val_loss: 0.4262 - val_acc: 0.8552\n",
      "Epoch 94/120\n",
      "26069/26069 [==============================] - 8s 307us/sample - loss: 0.3847 - acc: 0.8706 - val_loss: 0.4267 - val_acc: 0.8559\n",
      "Epoch 95/120\n",
      "26069/26069 [==============================] - 8s 308us/sample - loss: 0.3877 - acc: 0.8682 - val_loss: 0.4263 - val_acc: 0.8559\n",
      "Epoch 96/120\n",
      "26069/26069 [==============================] - 8s 309us/sample - loss: 0.3837 - acc: 0.8682 - val_loss: 0.4265 - val_acc: 0.8528\n",
      "Epoch 97/120\n",
      "26069/26069 [==============================] - 8s 308us/sample - loss: 0.3846 - acc: 0.8708 - val_loss: 0.4239 - val_acc: 0.8590\n",
      "Epoch 98/120\n",
      "26069/26069 [==============================] - 8s 308us/sample - loss: 0.3808 - acc: 0.8699 - val_loss: 0.4276 - val_acc: 0.8549\n",
      "Epoch 99/120\n",
      "26069/26069 [==============================] - 8s 308us/sample - loss: 0.3797 - acc: 0.8723 - val_loss: 0.4251 - val_acc: 0.8552\n",
      "Epoch 100/120\n",
      "26069/26069 [==============================] - 8s 307us/sample - loss: 0.3838 - acc: 0.8687 - val_loss: 0.4289 - val_acc: 0.8562\n",
      "Epoch 101/120\n",
      "26069/26069 [==============================] - 8s 309us/sample - loss: 0.3764 - acc: 0.8730 - val_loss: 0.4225 - val_acc: 0.8608\n",
      "Epoch 102/120\n",
      "26069/26069 [==============================] - 8s 309us/sample - loss: 0.3804 - acc: 0.8717 - val_loss: 0.4312 - val_acc: 0.8517\n",
      "Epoch 103/120\n",
      "26069/26069 [==============================] - 8s 308us/sample - loss: 0.3824 - acc: 0.8697 - val_loss: 0.4234 - val_acc: 0.8594\n",
      "Epoch 104/120\n",
      "26069/26069 [==============================] - 8s 308us/sample - loss: 0.3776 - acc: 0.8722 - val_loss: 0.4272 - val_acc: 0.8552\n",
      "Epoch 105/120\n",
      "26069/26069 [==============================] - 8s 309us/sample - loss: 0.3758 - acc: 0.8722 - val_loss: 0.4233 - val_acc: 0.8569\n",
      "Epoch 106/120\n",
      "26069/26069 [==============================] - 8s 309us/sample - loss: 0.3751 - acc: 0.8761 - val_loss: 0.4255 - val_acc: 0.8566\n",
      "Epoch 107/120\n",
      "26069/26069 [==============================] - 8s 309us/sample - loss: 0.3775 - acc: 0.8721 - val_loss: 0.4242 - val_acc: 0.8597\n",
      "Epoch 108/120\n",
      "26069/26069 [==============================] - 8s 308us/sample - loss: 0.3757 - acc: 0.8731 - val_loss: 0.4216 - val_acc: 0.8608\n",
      "Epoch 109/120\n",
      "26069/26069 [==============================] - 8s 311us/sample - loss: 0.3809 - acc: 0.8702 - val_loss: 0.4208 - val_acc: 0.8611\n",
      "Epoch 110/120\n",
      "26069/26069 [==============================] - 8s 310us/sample - loss: 0.3736 - acc: 0.8734 - val_loss: 0.4223 - val_acc: 0.8538\n",
      "Epoch 111/120\n",
      "26069/26069 [==============================] - 8s 308us/sample - loss: 0.3754 - acc: 0.8737 - val_loss: 0.4218 - val_acc: 0.8580\n",
      "Epoch 112/120\n",
      "26069/26069 [==============================] - 8s 308us/sample - loss: 0.3750 - acc: 0.8729 - val_loss: 0.4185 - val_acc: 0.8653\n",
      "Epoch 113/120\n",
      "26069/26069 [==============================] - 8s 309us/sample - loss: 0.3771 - acc: 0.8716 - val_loss: 0.4179 - val_acc: 0.8618\n"
     ]
    },
    {
     "name": "stdout",
     "output_type": "stream",
     "text": [
      "Epoch 114/120\n",
      "26069/26069 [==============================] - 8s 303us/sample - loss: 0.3740 - acc: 0.8738 - val_loss: 0.4196 - val_acc: 0.8576\n",
      "Epoch 115/120\n",
      "26069/26069 [==============================] - 8s 303us/sample - loss: 0.3759 - acc: 0.8726 - val_loss: 0.4206 - val_acc: 0.8608\n",
      "Epoch 116/120\n",
      "26069/26069 [==============================] - 8s 302us/sample - loss: 0.3717 - acc: 0.8749 - val_loss: 0.4214 - val_acc: 0.8608\n",
      "Epoch 117/120\n",
      "26069/26069 [==============================] - 8s 304us/sample - loss: 0.3734 - acc: 0.8730 - val_loss: 0.4220 - val_acc: 0.8618\n",
      "Epoch 118/120\n",
      "26069/26069 [==============================] - 8s 304us/sample - loss: 0.3793 - acc: 0.8717 - val_loss: 0.4194 - val_acc: 0.8635\n",
      "Epoch 119/120\n",
      "26069/26069 [==============================] - 8s 302us/sample - loss: 0.3738 - acc: 0.8733 - val_loss: 0.4187 - val_acc: 0.8622\n",
      "Epoch 120/120\n",
      "26069/26069 [==============================] - 8s 302us/sample - loss: 0.3751 - acc: 0.8738 - val_loss: 0.4195 - val_acc: 0.8615\n"
     ]
    }
   ],
   "source": [
    "history = model.fit(x_train, y_train, batch_size=BATCH_SIZE, epochs=EPOCHS,\n",
    "                    validation_data=(x_test, y_test), callbacks=[lr_scheduler])"
   ]
  },
  {
   "cell_type": "code",
   "execution_count": 9,
   "metadata": {},
   "outputs": [
    {
     "name": "stdout",
     "output_type": "stream",
     "text": [
      "dict_keys(['loss', 'acc', 'val_loss', 'val_acc', 'lr'])\n"
     ]
    }
   ],
   "source": [
    "model.save_weights(weights_file)\n",
    "model.save(model_file)\n",
    "print(history.history.keys())"
   ]
  },
  {
   "cell_type": "code",
   "execution_count": 10,
   "metadata": {},
   "outputs": [
    {
     "data": {
      "image/png": "[encoded data removed]",
      "text/plain": [
       "<Figure size 432x288 with 1 Axes>"
      ]
     },
     "metadata": {
      "needs_background": "light"
     },
     "output_type": "display_data"
    },
    {
     "data": {
      "image/png": "[encoded data removed]",
      "text/plain": [
       "<Figure size 432x288 with 1 Axes>"
      ]
     },
     "metadata": {
      "needs_background": "light"
     },
     "output_type": "display_data"
    }
   ],
   "source": [
    "# summarize history for accuracy\n",
    "plt.plot(history.history['acc'])\n",
    "plt.plot(history.history['val_acc'])\n",
    "plt.title('Model accuracy')\n",
    "plt.ylabel('Accuracy')\n",
    "plt.xlabel('Epoch')\n",
    "plt.legend(['Train', 'Test'], loc='upper left')\n",
    "plt.savefig('./figures/lstm_acc.png')\n",
    "plt.show()\n",
    "\n",
    "# summarize history for loss\n",
    "plt.plot(history.history['loss'])\n",
    "plt.plot(history.history['val_loss'])\n",
    "plt.title('Model loss')\n",
    "plt.ylabel('Loss')\n",
    "plt.xlabel('Epoch')\n",
    "plt.legend(['Train', 'Test'], loc='upper left')\n",
    "plt.savefig('./figures/lstm_loss.png')\n",
    "plt.show()"
   ]
  },
  {
   "cell_type": "code",
   "execution_count": null,
   "metadata": {},
   "outputs": [],
   "source": []
  }
 ],
 "metadata": {
  "kernelspec": {
   "display_name": "Python 3",
   "language": "python",
   "name": "python3"
  },
  "language_info": {
   "codemirror_mode": {
    "name": "ipython",
    "version": 3
   },
   "file_extension": ".py",
   "mimetype": "text/x-python",
   "name": "python",
   "nbconvert_exporter": "python",
   "pygments_lexer": "ipython3",
   "version": "3.6.8"
  }
 },
 "nbformat": 4,
 "nbformat_minor": 2
}
