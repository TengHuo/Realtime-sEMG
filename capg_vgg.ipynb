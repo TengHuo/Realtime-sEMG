{
 "cells": [
  {
   "cell_type": "code",
   "execution_count": 1,
   "metadata": {},
   "outputs": [],
   "source": [
    "import tensorflow as tf\n",
    "import tensorflow.keras as keras\n",
    "from tensorflow.keras.models import Sequential\n",
    "from tensorflow.keras.layers import Dense, Dropout, Flatten\n",
    "from tensorflow.keras.layers import Conv2D, MaxPooling2D\n",
    "from tensorflow.keras.optimizers import SGD\n",
    "from tensorflow.keras import utils\n",
    "\n",
    "from utils.data import load_whole_train_data\n",
    "\n",
    "from tensorflow.compat.v1 import ConfigProto\n",
    "from tensorflow.compat.v1 import InteractiveSession\n",
    "\n",
    "from tensorflow.keras import backend as K\n",
    "import matplotlib.pyplot as plt"
   ]
  },
  {
   "cell_type": "code",
   "execution_count": 2,
   "metadata": {},
   "outputs": [],
   "source": [
    "config = ConfigProto()\n",
    "config.gpu_options.allow_growth = True\n",
    "session = InteractiveSession(config=config)\n",
    "K.set_session(session)  # set this TensorFlow session as the default session for Keras"
   ]
  },
  {
   "cell_type": "code",
   "execution_count": 3,
   "metadata": {},
   "outputs": [
    {
     "name": "stdout",
     "output_type": "stream",
     "text": [
      "(1440000, 16, 8, 1)\n",
      "(1440000, 8)\n"
     ]
    }
   ],
   "source": [
    "x, y = load_whole_train_data()\n",
    "\n",
    "x = x.reshape(x.shape[0], 16, 8, 1)\n",
    "y = utils.to_categorical(y - 1, 8)\n",
    "\n",
    "print(x.shape)\n",
    "print(y.shape)"
   ]
  },
  {
   "cell_type": "code",
   "execution_count": 4,
   "metadata": {},
   "outputs": [
    {
     "name": "stdout",
     "output_type": "stream",
     "text": [
      "Model: \"sequential\"\n",
      "_________________________________________________________________\n",
      "Layer (type)                 Output Shape              Param #   \n",
      "=================================================================\n",
      "conv2d (Conv2D)              (None, 16, 8, 32)         320       \n",
      "_________________________________________________________________\n",
      "conv2d_1 (Conv2D)            (None, 16, 8, 32)         9248      \n",
      "_________________________________________________________________\n",
      "max_pooling2d (MaxPooling2D) (None, 8, 4, 32)          0         \n",
      "_________________________________________________________________\n",
      "dropout (Dropout)            (None, 8, 4, 32)          0         \n",
      "_________________________________________________________________\n",
      "conv2d_2 (Conv2D)            (None, 8, 4, 64)          18496     \n",
      "_________________________________________________________________\n",
      "conv2d_3 (Conv2D)            (None, 8, 4, 64)          36928     \n",
      "_________________________________________________________________\n",
      "max_pooling2d_1 (MaxPooling2 (None, 4, 2, 64)          0         \n",
      "_________________________________________________________________\n",
      "dropout_1 (Dropout)          (None, 4, 2, 64)          0         \n",
      "_________________________________________________________________\n",
      "flatten (Flatten)            (None, 512)               0         \n",
      "_________________________________________________________________\n",
      "dense (Dense)                (None, 256)               131328    \n",
      "_________________________________________________________________\n",
      "dropout_2 (Dropout)          (None, 256)               0         \n",
      "_________________________________________________________________\n",
      "dense_1 (Dense)              (None, 8)                 2056      \n",
      "=================================================================\n",
      "Total params: 198,376\n",
      "Trainable params: 198,376\n",
      "Non-trainable params: 0\n",
      "_________________________________________________________________\n"
     ]
    }
   ],
   "source": [
    "model = Sequential()\n",
    "\n",
    "model.add(Conv2D(32, (3, 3), activation='relu', input_shape=(16, 8, 1), padding='same'))\n",
    "model.add(Conv2D(32, (3, 3), activation='relu', padding='same'))\n",
    "model.add(MaxPooling2D(pool_size=(2, 2)))\n",
    "model.add(Dropout(0.25))\n",
    "\n",
    "model.add(Conv2D(64, (3, 3), activation='relu', padding='same'))\n",
    "model.add(Conv2D(64, (3, 3), activation='relu', padding='same'))\n",
    "model.add(MaxPooling2D(pool_size=(2, 2)))\n",
    "model.add(Dropout(0.25))\n",
    "\n",
    "model.add(Flatten())\n",
    "model.add(Dense(256, activation='relu'))\n",
    "model.add(Dropout(0.5))\n",
    "model.add(Dense(8, activation='softmax'))\n",
    "\n",
    "model.compile(optimizer='adam', loss='categorical_crossentropy', metrics=['accuracy'])\n",
    "model.summary()"
   ]
  },
  {
   "cell_type": "code",
   "execution_count": 5,
   "metadata": {
    "scrolled": false
   },
   "outputs": [
    {
     "name": "stdout",
     "output_type": "stream",
     "text": [
      "Train on 1425600 samples, validate on 14400 samples\n",
      "Epoch 1/60\n",
      "1425600/1425600 [==============================] - 41s 28us/sample - loss: 1.3520 - accuracy: 0.4750 - val_loss: 1.1653 - val_accuracy: 0.5841\n",
      "Epoch 2/60\n",
      "1425600/1425600 [==============================] - 38s 27us/sample - loss: 1.0811 - accuracy: 0.5896 - val_loss: 1.0608 - val_accuracy: 0.6139\n",
      "Epoch 3/60\n",
      "1425600/1425600 [==============================] - 39s 27us/sample - loss: 1.0091 - accuracy: 0.6193 - val_loss: 1.0322 - val_accuracy: 0.6092\n",
      "Epoch 4/60\n",
      "1425600/1425600 [==============================] - 39s 27us/sample - loss: 0.9694 - accuracy: 0.6352 - val_loss: 0.8817 - val_accuracy: 0.6690\n",
      "Epoch 5/60\n",
      "1425600/1425600 [==============================] - 39s 27us/sample - loss: 0.9465 - accuracy: 0.6445 - val_loss: 0.9226 - val_accuracy: 0.6552\n",
      "Epoch 6/60\n",
      "1425600/1425600 [==============================] - 39s 27us/sample - loss: 0.9281 - accuracy: 0.6519 - val_loss: 0.8928 - val_accuracy: 0.6620\n",
      "Epoch 7/60\n",
      "1425600/1425600 [==============================] - 39s 27us/sample - loss: 0.9144 - accuracy: 0.6580 - val_loss: 0.8764 - val_accuracy: 0.6687\n",
      "Epoch 8/60\n",
      "1425600/1425600 [==============================] - 39s 27us/sample - loss: 0.9015 - accuracy: 0.6624 - val_loss: 0.8875 - val_accuracy: 0.6746\n",
      "Epoch 9/60\n",
      "1425600/1425600 [==============================] - 39s 28us/sample - loss: 0.8922 - accuracy: 0.6668 - val_loss: 0.8807 - val_accuracy: 0.6625\n",
      "Epoch 10/60\n",
      "1425600/1425600 [==============================] - 39s 28us/sample - loss: 0.8853 - accuracy: 0.6699 - val_loss: 0.8818 - val_accuracy: 0.6797\n",
      "Epoch 11/60\n",
      "1425600/1425600 [==============================] - 39s 28us/sample - loss: 0.8770 - accuracy: 0.6726 - val_loss: 0.8600 - val_accuracy: 0.6749\n",
      "Epoch 12/60\n",
      "1425600/1425600 [==============================] - 39s 28us/sample - loss: 0.8721 - accuracy: 0.6748 - val_loss: 0.8766 - val_accuracy: 0.6696\n",
      "Epoch 13/60\n",
      "1425600/1425600 [==============================] - 39s 27us/sample - loss: 0.8666 - accuracy: 0.6769 - val_loss: 0.9199 - val_accuracy: 0.6507\n",
      "Epoch 14/60\n",
      "1425600/1425600 [==============================] - 39s 27us/sample - loss: 0.8602 - accuracy: 0.6792 - val_loss: 0.8462 - val_accuracy: 0.6815\n",
      "Epoch 15/60\n",
      "1425600/1425600 [==============================] - 39s 28us/sample - loss: 0.8558 - accuracy: 0.6807 - val_loss: 0.8901 - val_accuracy: 0.6713\n",
      "Epoch 16/60\n",
      "1425600/1425600 [==============================] - 39s 27us/sample - loss: 0.8541 - accuracy: 0.6820 - val_loss: 0.7922 - val_accuracy: 0.7067\n",
      "Epoch 17/60\n",
      "1425600/1425600 [==============================] - 39s 28us/sample - loss: 0.8501 - accuracy: 0.6834 - val_loss: 0.8655 - val_accuracy: 0.6601\n",
      "Epoch 18/60\n",
      "1425600/1425600 [==============================] - 40s 28us/sample - loss: 0.8461 - accuracy: 0.6852 - val_loss: 0.8750 - val_accuracy: 0.6711\n",
      "Epoch 19/60\n",
      "1425600/1425600 [==============================] - 36s 25us/sample - loss: 0.8440 - accuracy: 0.6858 - val_loss: 0.9146 - val_accuracy: 0.6637\n",
      "Epoch 20/60\n",
      "1425600/1425600 [==============================] - 31s 21us/sample - loss: 0.8412 - accuracy: 0.6866 - val_loss: 0.8522 - val_accuracy: 0.6684\n",
      "Epoch 21/60\n",
      "1425600/1425600 [==============================] - 29s 21us/sample - loss: 0.8389 - accuracy: 0.6877 - val_loss: 0.9113 - val_accuracy: 0.6582\n",
      "Epoch 22/60\n",
      "1425600/1425600 [==============================] - 30s 21us/sample - loss: 0.8363 - accuracy: 0.6885 - val_loss: 0.7803 - val_accuracy: 0.7081\n",
      "Epoch 23/60\n",
      "1425600/1425600 [==============================] - 27s 19us/sample - loss: 0.8338 - accuracy: 0.6896 - val_loss: 0.7795 - val_accuracy: 0.7094\n",
      "Epoch 24/60\n",
      "1425600/1425600 [==============================] - 27s 19us/sample - loss: 0.8309 - accuracy: 0.6909 - val_loss: 0.8455 - val_accuracy: 0.6828\n",
      "Epoch 25/60\n",
      "1425600/1425600 [==============================] - 27s 19us/sample - loss: 0.8308 - accuracy: 0.6909 - val_loss: 0.7651 - val_accuracy: 0.7206\n",
      "Epoch 26/60\n",
      "1425600/1425600 [==============================] - 28s 19us/sample - loss: 0.8286 - accuracy: 0.6920 - val_loss: 1.0597 - val_accuracy: 0.6608\n",
      "Epoch 27/60\n",
      "1425600/1425600 [==============================] - 28s 19us/sample - loss: 0.8271 - accuracy: 0.6923 - val_loss: 0.8859 - val_accuracy: 0.6771\n",
      "Epoch 28/60\n",
      "1425600/1425600 [==============================] - 31s 22us/sample - loss: 0.8247 - accuracy: 0.6931 - val_loss: 0.9230 - val_accuracy: 0.6626\n",
      "Epoch 29/60\n",
      "1425600/1425600 [==============================] - 31s 22us/sample - loss: 0.8226 - accuracy: 0.6943 - val_loss: 0.8744 - val_accuracy: 0.6883\n",
      "Epoch 30/60\n",
      "1425600/1425600 [==============================] - 30s 21us/sample - loss: 0.8226 - accuracy: 0.6948 - val_loss: 0.8671 - val_accuracy: 0.6929\n",
      "Epoch 31/60\n",
      "1425600/1425600 [==============================] - 29s 21us/sample - loss: 0.8210 - accuracy: 0.6952 - val_loss: 0.9753 - val_accuracy: 0.6618\n",
      "Epoch 32/60\n",
      "1425600/1425600 [==============================] - 29s 20us/sample - loss: 0.8184 - accuracy: 0.6953 - val_loss: 0.8201 - val_accuracy: 0.6852\n",
      "Epoch 33/60\n",
      "1425600/1425600 [==============================] - 27s 19us/sample - loss: 0.8185 - accuracy: 0.6957 - val_loss: 0.8417 - val_accuracy: 0.6901\n",
      "Epoch 34/60\n",
      "1425600/1425600 [==============================] - 31s 21us/sample - loss: 0.8163 - accuracy: 0.6970 - val_loss: 0.9006 - val_accuracy: 0.6581\n",
      "Epoch 35/60\n",
      "1425600/1425600 [==============================] - 31s 22us/sample - loss: 0.8156 - accuracy: 0.6972 - val_loss: 0.7430 - val_accuracy: 0.7217\n",
      "Epoch 36/60\n",
      "1425600/1425600 [==============================] - 28s 20us/sample - loss: 0.8148 - accuracy: 0.6973 - val_loss: 0.8201 - val_accuracy: 0.6912\n",
      "Epoch 37/60\n",
      "1425600/1425600 [==============================] - 26s 18us/sample - loss: 0.8139 - accuracy: 0.6976 - val_loss: 0.8924 - val_accuracy: 0.6722\n",
      "Epoch 38/60\n",
      "1425600/1425600 [==============================] - 26s 18us/sample - loss: 0.8130 - accuracy: 0.6983 - val_loss: 0.9994 - val_accuracy: 0.6767\n",
      "Epoch 39/60\n",
      "1425600/1425600 [==============================] - 26s 18us/sample - loss: 0.8112 - accuracy: 0.6989 - val_loss: 0.8234 - val_accuracy: 0.6958\n",
      "Epoch 40/60\n",
      "1425600/1425600 [==============================] - 26s 18us/sample - loss: 0.8101 - accuracy: 0.6991 - val_loss: 0.8854 - val_accuracy: 0.6815\n",
      "Epoch 41/60\n",
      "1425600/1425600 [==============================] - 27s 19us/sample - loss: 0.8093 - accuracy: 0.6993 - val_loss: 0.7614 - val_accuracy: 0.7134\n",
      "Epoch 42/60\n",
      "1425600/1425600 [==============================] - 25s 18us/sample - loss: 0.8098 - accuracy: 0.6996 - val_loss: 0.7844 - val_accuracy: 0.7034\n",
      "Epoch 43/60\n",
      "1425600/1425600 [==============================] - 24s 17us/sample - loss: 0.8070 - accuracy: 0.7002 - val_loss: 0.7847 - val_accuracy: 0.6983\n",
      "Epoch 44/60\n",
      "1425600/1425600 [==============================] - 25s 17us/sample - loss: 0.8070 - accuracy: 0.7000 - val_loss: 0.9535 - val_accuracy: 0.6833\n",
      "Epoch 45/60\n",
      "1425600/1425600 [==============================] - 25s 17us/sample - loss: 0.8062 - accuracy: 0.7005 - val_loss: 0.7323 - val_accuracy: 0.7331\n",
      "Epoch 46/60\n",
      "1425600/1425600 [==============================] - 29s 20us/sample - loss: 0.8065 - accuracy: 0.7009 - val_loss: 0.7555 - val_accuracy: 0.7094\n",
      "Epoch 47/60\n",
      "1425600/1425600 [==============================] - 27s 19us/sample - loss: 0.8041 - accuracy: 0.7023 - val_loss: 0.7294 - val_accuracy: 0.7210\n",
      "Epoch 48/60\n",
      "1425600/1425600 [==============================] - 28s 20us/sample - loss: 0.8038 - accuracy: 0.7016 - val_loss: 0.8887 - val_accuracy: 0.6813\n",
      "Epoch 49/60\n",
      "1425600/1425600 [==============================] - 26s 18us/sample - loss: 0.8031 - accuracy: 0.7024 - val_loss: 0.8174 - val_accuracy: 0.6958\n",
      "Epoch 50/60\n",
      "1425600/1425600 [==============================] - 26s 19us/sample - loss: 0.8021 - accuracy: 0.7023 - val_loss: 0.9784 - val_accuracy: 0.6608\n",
      "Epoch 51/60\n",
      "1425600/1425600 [==============================] - 27s 19us/sample - loss: 0.8017 - accuracy: 0.7030 - val_loss: 0.8431 - val_accuracy: 0.6960\n",
      "Epoch 52/60\n",
      "1425600/1425600 [==============================] - 24s 17us/sample - loss: 0.8009 - accuracy: 0.7031 - val_loss: 0.7407 - val_accuracy: 0.7234\n",
      "Epoch 53/60\n"
     ]
    },
    {
     "name": "stdout",
     "output_type": "stream",
     "text": [
      "1425600/1425600 [==============================] - 25s 18us/sample - loss: 0.8000 - accuracy: 0.7036 - val_loss: 0.9854 - val_accuracy: 0.6849\n",
      "Epoch 54/60\n",
      "1425600/1425600 [==============================] - 25s 17us/sample - loss: 0.7998 - accuracy: 0.7034 - val_loss: 0.9115 - val_accuracy: 0.6669\n",
      "Epoch 55/60\n",
      "1425600/1425600 [==============================] - 25s 18us/sample - loss: 0.7988 - accuracy: 0.7038 - val_loss: 0.8476 - val_accuracy: 0.6907\n",
      "Epoch 56/60\n",
      "1425600/1425600 [==============================] - 25s 18us/sample - loss: 0.7995 - accuracy: 0.7035 - val_loss: 1.0425 - val_accuracy: 0.6794\n",
      "Epoch 57/60\n",
      "1425600/1425600 [==============================] - 25s 18us/sample - loss: 0.7982 - accuracy: 0.7042 - val_loss: 0.8827 - val_accuracy: 0.6881\n",
      "Epoch 58/60\n",
      "1425600/1425600 [==============================] - 26s 18us/sample - loss: 0.7969 - accuracy: 0.7045 - val_loss: 0.8875 - val_accuracy: 0.6863\n",
      "Epoch 59/60\n",
      "1425600/1425600 [==============================] - 25s 18us/sample - loss: 0.7977 - accuracy: 0.7044 - val_loss: 0.7940 - val_accuracy: 0.7131\n",
      "Epoch 60/60\n",
      "1425600/1425600 [==============================] - 25s 18us/sample - loss: 0.7960 - accuracy: 0.7047 - val_loss: 0.8971 - val_accuracy: 0.6794\n"
     ]
    }
   ],
   "source": [
    "history = model.fit(x, y, batch_size=256, epochs=60, validation_split=0.01)"
   ]
  },
  {
   "cell_type": "code",
   "execution_count": 6,
   "metadata": {},
   "outputs": [
    {
     "data": {
      "image/png": "[encoded data removed]",
      "text/plain": [
       "<Figure size 432x288 with 1 Axes>"
      ]
     },
     "metadata": {
      "needs_background": "light"
     },
     "output_type": "display_data"
    },
    {
     "data": {
      "image/png": "[encoded data removed]",
      "text/plain": [
       "<Figure size 432x288 with 1 Axes>"
      ]
     },
     "metadata": {
      "needs_background": "light"
     },
     "output_type": "display_data"
    }
   ],
   "source": [
    "model_file = './models/capg_vgg.h5'\n",
    "model.save(model_file)\n",
    "\n",
    "# summarize history for accuracy\n",
    "plt.plot(history.history['accuracy'])\n",
    "plt.plot(history.history['val_accuracy'])\n",
    "plt.title('Model accuracy')\n",
    "plt.ylabel('Accuracy')\n",
    "plt.xlabel('Epoch')\n",
    "plt.legend(['Train', 'Test'], loc='upper left')\n",
    "plt.show()\n",
    "\n",
    "# summarize history for loss\n",
    "plt.plot(history.history['loss'])\n",
    "plt.plot(history.history['val_loss'])\n",
    "plt.title('Model loss')\n",
    "plt.ylabel('Loss')\n",
    "plt.xlabel('Epoch')\n",
    "plt.legend(['Train', 'Test'], loc='upper left')\n",
    "plt.show()"
   ]
  },
  {
   "cell_type": "code",
   "execution_count": 7,
   "metadata": {},
   "outputs": [
    {
     "name": "stdout",
     "output_type": "stream",
     "text": [
      "Model: \"sequential\"\n",
      "_________________________________________________________________\n",
      "Layer (type)                 Output Shape              Param #   \n",
      "=================================================================\n",
      "conv2d (Conv2D)              (None, 16, 8, 32)         320       \n",
      "_________________________________________________________________\n",
      "conv2d_1 (Conv2D)            (None, 16, 8, 32)         9248      \n",
      "_________________________________________________________________\n",
      "max_pooling2d (MaxPooling2D) (None, 8, 4, 32)          0         \n",
      "_________________________________________________________________\n",
      "dropout (Dropout)            (None, 8, 4, 32)          0         \n",
      "_________________________________________________________________\n",
      "conv2d_2 (Conv2D)            (None, 8, 4, 64)          18496     \n",
      "_________________________________________________________________\n",
      "conv2d_3 (Conv2D)            (None, 8, 4, 64)          36928     \n",
      "_________________________________________________________________\n",
      "max_pooling2d_1 (MaxPooling2 (None, 4, 2, 64)          0         \n",
      "_________________________________________________________________\n",
      "dropout_1 (Dropout)          (None, 4, 2, 64)          0         \n",
      "_________________________________________________________________\n",
      "flatten (Flatten)            (None, 512)               0         \n",
      "_________________________________________________________________\n",
      "dense (Dense)                (None, 256)               131328    \n",
      "_________________________________________________________________\n",
      "dropout_2 (Dropout)          (None, 256)               0         \n",
      "_________________________________________________________________\n",
      "dense_1 (Dense)              (None, 8)                 2056      \n",
      "=================================================================\n",
      "Total params: 198,376\n",
      "Trainable params: 198,376\n",
      "Non-trainable params: 0\n",
      "_________________________________________________________________\n"
     ]
    }
   ],
   "source": [
    "# load model\n",
    "model = keras.models.load_model(model_file)\n",
    "model.summary()\n",
    "# loss, acc = new_model.evaluate(test_images, test_labels)"
   ]
  },
  {
   "cell_type": "code",
   "execution_count": null,
   "metadata": {},
   "outputs": [],
   "source": []
  }
 ],
 "metadata": {
  "kernelspec": {
   "display_name": "Python 3",
   "language": "python",
   "name": "python3"
  },
  "language_info": {
   "codemirror_mode": {
    "name": "ipython",
    "version": 3
   },
   "file_extension": ".py",
   "mimetype": "text/x-python",
   "name": "python",
   "nbconvert_exporter": "python",
   "pygments_lexer": "ipython3",
   "version": "3.5.2"
  }
 },
 "nbformat": 4,
 "nbformat_minor": 2
}
